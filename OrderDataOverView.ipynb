{
 "cells": [
  {
   "cell_type": "code",
   "execution_count": 0,
   "metadata": {
    "application/vnd.databricks.v1+cell": {
     "cellMetadata": {
      "byteLimit": 2048000,
      "rowLimit": 10000
     },
     "inputWidgets": {},
     "nuid": "44daa05b-58e1-4c3d-b117-4c4f6c69c5f3",
     "showTitle": false,
     "title": ""
    }
   },
   "outputs": [],
   "source": [
    "from pyspark.sql import SparkSession\n",
    "spark = SparkSession.builder.master(\"local[1]\").appName(\"DataBricks Learning\").getOrCreate()"
   ]
  },
  {
   "cell_type": "code",
   "execution_count": 0,
   "metadata": {
    "application/vnd.databricks.v1+cell": {
     "cellMetadata": {
      "byteLimit": 2048000,
      "rowLimit": 10000
     },
     "inputWidgets": {},
     "nuid": "dd1fee11-4108-4ecc-83bb-647e5e3cce76",
     "showTitle": false,
     "title": ""
    }
   },
   "outputs": [
    {
     "output_type": "stream",
     "name": "stdout",
     "output_type": "stream",
     "text": [
      "+-----------+------------------+---------------+-----------------+\n|CustomerKey|      CustomerName|  CustomerPhone|CustomerNationKey|\n+-----------+------------------+---------------+-----------------+\n|     412445|Customer#000412445|31-421-403-4333|               21|\n|     412446|Customer#000412446|30-487-949-7942|               20|\n|     412447|Customer#000412447|17-797-466-6308|                7|\n|     412448|Customer#000412448|16-541-510-4964|                6|\n|     412449|Customer#000412449|24-710-983-5536|               14|\n|     412450|Customer#000412450|30-293-696-5047|               20|\n|     412451|Customer#000412451|30-590-724-6711|               20|\n|     412452|Customer#000412452|20-492-590-3363|               10|\n|     412453|Customer#000412453|31-480-724-9665|               21|\n|     412454|Customer#000412454|19-898-261-2669|                9|\n|     412455|Customer#000412455|26-667-672-4269|               16|\n|     412456|Customer#000412456|29-882-106-8873|               19|\n|     412457|Customer#000412457|33-125-304-4030|               23|\n|     412458|Customer#000412458|28-126-708-7406|               18|\n|     412459|Customer#000412459|12-555-921-6728|                2|\n|     412460|Customer#000412460|31-422-845-1602|               21|\n|     412461|Customer#000412461|17-662-733-9810|                7|\n|     412462|Customer#000412462|20-755-788-5423|               10|\n|     412463|Customer#000412463|10-983-209-5435|                0|\n|     412464|Customer#000412464|24-951-562-7026|               14|\n+-----------+------------------+---------------+-----------------+\nonly showing top 20 rows\n\n"
     ]
    }
   ],
   "source": [
    "customer = spark.read.table('samples.tpch.customer')\n",
    "customerdf = customer.selectExpr('c_custkey as CustomerKey','c_name as CustomerName','c_phone as CustomerPhone','c_nationkey as CustomerNationKey')\n",
    "customerdf.show()\n",
    "\n",
    "\n",
    "\n"
   ]
  },
  {
   "cell_type": "code",
   "execution_count": 0,
   "metadata": {
    "application/vnd.databricks.v1+cell": {
     "cellMetadata": {
      "byteLimit": 2048000,
      "rowLimit": 10000
     },
     "inputWidgets": {},
     "nuid": "3d36c280-bac5-4f73-8a06-c4ba4fef9608",
     "showTitle": false,
     "title": ""
    }
   },
   "outputs": [
    {
     "output_type": "stream",
     "name": "stdout",
     "output_type": "stream",
     "text": [
      "+-----------+\n|OrderStatus|\n+-----------+\n|          F|\n|          O|\n|          P|\n+-----------+\n\n+--------+----------------+----------+---------+-------+\n|OrderKey|OrderCustomerKey| OrderDate| TotalAmt| Status|\n+--------+----------------+----------+---------+-------+\n|13710944|          227285|1995-10-11|162169.66|Ordered|\n|13710945|          225010|1997-09-29|252273.67|Ordered|\n|13710946|          238820|1997-10-31|179947.16|Ordered|\n|13710947|          581233|1995-05-25| 33843.49|Ordered|\n|13710948|           10033|1995-09-04| 42500.65|Ordered|\n|13710949|          615502|1995-07-13| 48225.35|Ordered|\n|13710950|          710665|1992-11-29|265761.00| Failed|\n|13710951|          382528|1993-05-21|137666.86| Failed|\n|13710976|          122618|1998-03-06|158725.42|Ordered|\n|13710977|          575623|1998-05-04|178703.66|Ordered|\n|13710978|          236596|1993-02-04| 87222.97| Failed|\n|13710979|          712924|1992-09-18|178101.35| Failed|\n|13710980|           90848|1996-11-14|123597.85|Ordered|\n|13710981|          629690|1992-05-08|128520.33| Failed|\n|13710982|          696562|1992-04-23| 17205.82| Failed|\n|13710983|          352183|1998-04-03|172344.47|Ordered|\n|13711008|          116570|1996-02-28| 53633.69|Ordered|\n|13711009|          187295|1994-03-05|295448.93| Failed|\n|13711010|          105784|1996-03-11|241150.37|Ordered|\n|13711011|          410932|1998-07-31|215732.58|Ordered|\n+--------+----------------+----------+---------+-------+\nonly showing top 20 rows\n\n"
     ]
    }
   ],
   "source": [
    "from pyspark.sql.functions import when,col\n",
    "order = spark.read.table('samples.tpch.orders')\n",
    "orderdf = order.selectExpr('o_orderkey as OrderKey','o_custkey as OrderCustomerKey','o_orderstatus as OrderStatus','o_orderdate as OrderDate','o_totalprice as TotalAmt')\n",
    "orderdf.select('OrderStatus').distinct().show()\n",
    "orderdf = orderdf.withColumn('Status',when(orderdf.OrderStatus == 'F',\"Failed\")\n",
    "                            .when(orderdf.OrderStatus == 'O',\"Ordered\")\n",
    "                            .otherwise (\"Proccesing\")).drop('OrderStatus')\n",
    "orderdf.show()"
   ]
  },
  {
   "cell_type": "code",
   "execution_count": 0,
   "metadata": {
    "application/vnd.databricks.v1+cell": {
     "cellMetadata": {
      "byteLimit": 2048000,
      "rowLimit": 10000
     },
     "inputWidgets": {},
     "nuid": "da39dec0-3832-4873-a132-c2d0c4620435",
     "showTitle": false,
     "title": ""
    }
   },
   "outputs": [
    {
     "output_type": "stream",
     "name": "stdout",
     "output_type": "stream",
     "text": [
      "+---------+----------+\n|Nationkey|NationName|\n+---------+----------+\n|        0|   ALGERIA|\n|        1| ARGENTINA|\n|        2|    BRAZIL|\n|        3|    CANADA|\n|        4|     EGYPT|\n|        5|  ETHIOPIA|\n|        6|    FRANCE|\n|        7|   GERMANY|\n|        8|     INDIA|\n|        9| INDONESIA|\n|       10|      IRAN|\n|       11|      IRAQ|\n|       12|     JAPAN|\n|       13|    JORDAN|\n|       14|     KENYA|\n|       15|   MOROCCO|\n|       16|MOZAMBIQUE|\n|       17|      PERU|\n|       18|     CHINA|\n|       19|   ROMANIA|\n+---------+----------+\nonly showing top 20 rows\n\n"
     ]
    }
   ],
   "source": [
    "nation = spark.read.table('samples.tpch.nation')\n",
    "nationdf = nation.selectExpr('n_nationkey as Nationkey','n_name as NationName')\n",
    "nationdf.show()\n"
   ]
  },
  {
   "cell_type": "code",
   "execution_count": 0,
   "metadata": {
    "application/vnd.databricks.v1+cell": {
     "cellMetadata": {
      "byteLimit": 2048000,
      "rowLimit": 10000
     },
     "inputWidgets": {},
     "nuid": "e29ba031-2101-4981-9bb7-4ada02da00fc",
     "showTitle": false,
     "title": ""
    }
   },
   "outputs": [],
   "source": [
    "res = orderdf.join(customerdf).where(orderdf['OrderCustomerKey'] == customerdf['CustomerKey'])\\\n",
    "              .join(nationdf).where(customerdf['CustomerNationKey'] == nationdf['Nationkey'])\\\n",
    "              .select('OrderKey','CustomerName','NationName','OrderDate','Status','TotalAmt')\n",
    "              "
   ]
  },
  {
   "cell_type": "code",
   "execution_count": 0,
   "metadata": {
    "application/vnd.databricks.v1+cell": {
     "cellMetadata": {
      "byteLimit": 2048000,
      "rowLimit": 10000
     },
     "inputWidgets": {},
     "nuid": "e0c02dc4-2ac0-47cf-bfd8-96f8193e51cc",
     "showTitle": false,
     "title": ""
    }
   },
   "outputs": [
    {
     "output_type": "display_data",
     "data": {
      "text/html": [
       "<style scoped>\n",
       "  .table-result-container {\n",
       "    max-height: 300px;\n",
       "    overflow: auto;\n",
       "  }\n",
       "  table, th, td {\n",
       "    border: 1px solid black;\n",
       "    border-collapse: collapse;\n",
       "  }\n",
       "  th, td {\n",
       "    padding: 5px;\n",
       "  }\n",
       "  th {\n",
       "    text-align: left;\n",
       "  }\n",
       "</style><div class='table-result-container'><table class='table-result'><thead style='background-color: white'><tr><th>Status</th><th>SumTotalAmt</th></tr></thead><tbody><tr><td>Ordered</td><td>548923692869.55</td></tr><tr><td>Proccesing</td><td>35333603011.43</td></tr><tr><td>Failed</td><td>549181919365.27</td></tr></tbody></table></div>"
      ]
     },
     "metadata": {
      "application/vnd.databricks.v1+output": {
       "addedWidgets": {},
       "aggData": [],
       "aggError": "",
       "aggOverflow": false,
       "aggSchema": [],
       "aggSeriesLimitReached": false,
       "aggType": "",
       "arguments": {},
       "columnCustomDisplayInfos": {},
       "data": [
        [
         "Ordered",
         "548923692869.55"
        ],
        [
         "Proccesing",
         "35333603011.43"
        ],
        [
         "Failed",
         "549181919365.27"
        ]
       ],
       "datasetInfos": [],
       "dbfsResultPath": null,
       "isJsonSchema": true,
       "metadata": {},
       "overflow": false,
       "plotOptions": {
        "customPlotOptions": {},
        "displayType": "table",
        "pivotAggregation": null,
        "pivotColumns": null,
        "xColumns": null,
        "yColumns": null
       },
       "removedWidgets": [],
       "schema": [
        {
         "metadata": "{}",
         "name": "Status",
         "type": "\"string\""
        },
        {
         "metadata": "{}",
         "name": "SumTotalAmt",
         "type": "\"decimal(28,2)\""
        }
       ],
       "type": "table"
      }
     },
     "output_type": "display_data"
    },
    {
     "output_type": "display_data",
     "data": {
      "text/plain": [
       "Databricks visualization. Run in Databricks to view."
      ]
     },
     "metadata": {
      "application/vnd.databricks.v1.subcommand+json": {
       "bindings": {},
       "collapsed": false,
       "command": "%python\n__backend_agg_display_orig = display\n__backend_agg_dfs = []\ndef __backend_agg_display_new(df):\n    __backend_agg_df_modules = [\"pandas.core.frame\", \"databricks.koalas.frame\", \"pyspark.sql.dataframe\", \"pyspark.pandas.frame\", \"pyspark.sql.connect.dataframe\"]\n    if (type(df).__module__ in __backend_agg_df_modules and type(df).__name__ == 'DataFrame') or isinstance(df, list):\n        __backend_agg_dfs.append(df)\n\ndisplay = __backend_agg_display_new\n\ndef __backend_agg_user_code_fn():\n    import base64\n    exec(base64.standard_b64decode(\"CgpTdGF0dXNTYWxlc0Ftb3VudCA9IHJlcy5ncm91cGJ5KCdTdGF0dXMnKS5zdW0oJ1RvdGFsQW10Jykud2l0aENvbHVtblJlbmFtZWQoJ3N1bShUb3RhbEFtdCknLCdTdW1Ub3RhbEFtdCcpCmRpc3BsYXkoU3RhdHVzU2FsZXNBbW91bnQpCgoK\").decode())\n\ntry:\n    # run user code\n    __backend_agg_user_code_fn()\n\n    #reset display function\n    display = __backend_agg_display_orig\n\n    if len(__backend_agg_dfs) > 0:\n        # create a temp view\n        if hasattr(__backend_agg_dfs[0], \"to_spark\"):\n            # koalas dataframe\n            __backend_agg_dfs[0].to_spark().createOrReplaceTempView(\"DatabricksView274d331\")\n        elif type(__backend_agg_dfs[0]).__module__ == \"pandas.core.frame\" or isinstance(__backend_agg_dfs[0], list):\n            # pandas dataframe\n            spark.createDataFrame(__backend_agg_dfs[0]).createOrReplaceTempView(\"DatabricksView274d331\")\n        else:\n            __backend_agg_dfs[0].createOrReplaceTempView(\"DatabricksView274d331\")\n        #run backend agg\n        display(spark.sql(\"\"\"WITH q AS (select * from DatabricksView274d331) SELECT `Status`,SUM(`SumTotalAmt`) `column_f1b4792d2` FROM q GROUP BY `Status`\"\"\"))\n    else:\n        displayHTML(\"dataframe no longer exists. If you're using dataframe.display(), use display(dataframe) instead.\")\n\n\nfinally:\n    spark.sql(\"drop view if exists DatabricksView274d331\")\n    display = __backend_agg_display_orig\n    del __backend_agg_display_new\n    del __backend_agg_display_orig\n    del __backend_agg_dfs\n    del __backend_agg_user_code_fn\n\n",
       "commandTitle": "Total Sales By Status",
       "commandType": "auto",
       "commandVersion": 0,
       "commentThread": [],
       "commentsVisible": false,
       "contentSha256Hex": null,
       "customPlotOptions": {
        "redashChart": [
         {
          "key": "type",
          "value": "CHART"
         },
         {
          "key": "options",
          "value": {
           "alignYAxesAtZero": true,
           "coefficient": 1,
           "columnConfigurationMap": {
            "x": {
             "column": "Status",
             "id": "column_f1b4792d1"
            },
            "y": [
             {
              "column": "SumTotalAmt",
              "id": "column_f1b4792d2",
              "transform": "SUM"
             }
            ]
           },
           "dateTimeFormat": "DD/MM/YYYY HH:mm",
           "direction": {
            "type": "counterclockwise"
           },
           "error_y": {
            "type": "data",
            "visible": true
           },
           "globalSeriesType": "pie",
           "isAggregationOn": true,
           "legend": {
            "traceorder": "normal"
           },
           "missingValuesAsZero": true,
           "numberFormat": "0,0[.]00000",
           "percentFormat": "0[.]00%",
           "series": {
            "error_y": {
             "type": "data",
             "visible": true
            },
            "stacking": null
           },
           "seriesOptions": {
            "column_f1b4792d2": {
             "name": "Total Sales By Status ",
             "type": "pie",
             "yAxis": 0
            }
           },
           "showDataLabels": true,
           "sizemode": "diameter",
           "sortX": true,
           "sortY": true,
           "swappedAxes": false,
           "textFormat": "",
           "useAggregationsUi": true,
           "valuesOptions": {},
           "version": 2,
           "xAxis": {
            "labels": {
             "enabled": true
            },
            "type": "-"
           },
           "yAxis": [
            {
             "type": "-"
            },
            {
             "opposite": true,
             "type": "-"
            }
           ]
          }
         }
        ]
       },
       "datasetPreviewNameToCmdIdMap": {},
       "diffDeletes": [],
       "diffInserts": [],
       "displayType": "redashChart",
       "error": null,
       "errorSummary": null,
       "errorTraceType": null,
       "finishTime": 0,
       "globalVars": {},
       "guid": "eeba63dd-8b9e-4b95-ae05-89e15253ac4f",
       "height": "256",
       "hideCommandCode": false,
       "hideCommandResult": false,
       "iPythonMetadata": null,
       "inputWidgets": {},
       "isLockedInExamMode": false,
       "latestUser": "a user",
       "latestUserId": null,
       "listResultMetadata": null,
       "metadata": {
        "byteLimit": 2048000,
        "rowLimit": 10000
       },
       "nuid": "f2c33297-c1b8-4e92-8f20-501dee364929",
       "origId": 4476185660315024,
       "parentHierarchy": [
        "47005909-d418-466c-9cf9-d49350f3e673"
       ],
       "pivotAggregation": null,
       "pivotColumns": null,
       "position": 7.0,
       "resultDbfsErrorMessage": null,
       "resultDbfsStatus": "INLINED_IN_TREE",
       "results": null,
       "showCommandTitle": false,
       "startTime": 0,
       "state": "finished",
       "streamStates": {},
       "subcommandOptions": {
        "queryPlan": {
         "groups": [
          {
           "column": "Status",
           "type": "column"
          }
         ],
         "selects": [
          {
           "column": "Status",
           "type": "column"
          },
          {
           "alias": "column_f1b4792d2",
           "args": [
            {
             "column": "SumTotalAmt",
             "type": "column"
            }
           ],
           "function": "SUM",
           "type": "function"
          }
         ]
        }
       },
       "submitTime": 0,
       "subtype": "tableResultSubCmd.visualization",
       "tableResultIndex": 0,
       "useConsistentColors": false,
       "version": "CommandV1",
       "width": "709",
       "workflows": [],
       "xColumns": null,
       "yColumns": null
      }
     },
     "output_type": "display_data"
    }
   ],
   "source": [
    "\n",
    "\n",
    "StatusSalesAmount = res.groupby('Status').sum('TotalAmt').withColumnRenamed('sum(TotalAmt)','SumTotalAmt')\n",
    "display(StatusSalesAmount)\n",
    "\n",
    "\n"
   ]
  },
  {
   "cell_type": "code",
   "execution_count": 0,
   "metadata": {
    "application/vnd.databricks.v1+cell": {
     "cellMetadata": {
      "byteLimit": 2048000,
      "rowLimit": 10000
     },
     "inputWidgets": {},
     "nuid": "b8ede9d6-c219-4207-99f3-c1f4bdefb7d5",
     "showTitle": false,
     "title": ""
    }
   },
   "outputs": [
    {
     "output_type": "display_data",
     "data": {
      "text/html": [
       "<style scoped>\n",
       "  .table-result-container {\n",
       "    max-height: 300px;\n",
       "    overflow: auto;\n",
       "  }\n",
       "  table, th, td {\n",
       "    border: 1px solid black;\n",
       "    border-collapse: collapse;\n",
       "  }\n",
       "  th, td {\n",
       "    padding: 5px;\n",
       "  }\n",
       "  th {\n",
       "    text-align: left;\n",
       "  }\n",
       "</style><div class='table-result-container'><table class='table-result'><thead style='background-color: white'><tr><th>NationName</th><th>Status</th><th>SumTotalAmt</th><th>TotalOrderCount</th></tr></thead><tbody><tr><td>CHINA</td><td>Ordered</td><td>13597652.13</td><td>90</td></tr><tr><td>INDIA</td><td>Ordered</td><td>15556860.72</td><td>108</td></tr><tr><td>UNITED KINGDOM</td><td>Proccesing</td><td>4066783.73</td><td>21</td></tr><tr><td>GERMANY</td><td>Ordered</td><td>12688658.02</td><td>95</td></tr><tr><td>IRAN</td><td>Proccesing</td><td>5395171.64</td><td>28</td></tr><tr><td>IRAQ</td><td>Proccesing</td><td>4263762.24</td><td>24</td></tr><tr><td>ALGERIA</td><td>Ordered</td><td>14325611.42</td><td>100</td></tr><tr><td>CHINA</td><td>Proccesing</td><td>3537359.49</td><td>17</td></tr><tr><td>JAPAN</td><td>Failed</td><td>26833.53</td><td>1</td></tr><tr><td>KENYA</td><td>Ordered</td><td>13709912.54</td><td>91</td></tr><tr><td>EGYPT</td><td>Proccesing</td><td>3960059.78</td><td>20</td></tr><tr><td>UNITED KINGDOM</td><td>Ordered</td><td>14474535.76</td><td>108</td></tr><tr><td>INDONESIA</td><td>Ordered</td><td>14032108.00</td><td>104</td></tr><tr><td>MOROCCO</td><td>Proccesing</td><td>4556773.12</td><td>24</td></tr><tr><td>EGYPT</td><td>Ordered</td><td>11913345.85</td><td>93</td></tr><tr><td>MOROCCO</td><td>Ordered</td><td>16034466.94</td><td>102</td></tr><tr><td>BRAZIL</td><td>Proccesing</td><td>5080431.62</td><td>28</td></tr><tr><td>PERU</td><td>Ordered</td><td>16149131.35</td><td>100</td></tr><tr><td>VIETNAM</td><td>Proccesing</td><td>4867874.34</td><td>26</td></tr><tr><td>VIETNAM</td><td>Failed</td><td>28934.83</td><td>1</td></tr><tr><td>RUSSIA</td><td>Proccesing</td><td>5682627.93</td><td>26</td></tr><tr><td>JAPAN</td><td>Proccesing</td><td>4963768.80</td><td>25</td></tr><tr><td>ETHIOPIA</td><td>Ordered</td><td>15319622.74</td><td>100</td></tr><tr><td>ROMANIA</td><td>Proccesing</td><td>4807619.96</td><td>22</td></tr><tr><td>ALGERIA</td><td>Proccesing</td><td>4129242.84</td><td>22</td></tr><tr><td>ETHIOPIA</td><td>Proccesing</td><td>4692462.38</td><td>25</td></tr><tr><td>UNITED STATES</td><td>Proccesing</td><td>3553150.94</td><td>21</td></tr><tr><td>FRANCE</td><td>Ordered</td><td>13917036.97</td><td>98</td></tr><tr><td>CANADA</td><td>Proccesing</td><td>3168392.27</td><td>14</td></tr><tr><td>SAUDI ARABIA</td><td>Proccesing</td><td>4815759.75</td><td>26</td></tr><tr><td>VIETNAM</td><td>Ordered</td><td>11941124.09</td><td>88</td></tr><tr><td>PERU</td><td>Proccesing</td><td>4933935.08</td><td>25</td></tr><tr><td>KENYA</td><td>Proccesing</td><td>5835073.74</td><td>30</td></tr><tr><td>MOZAMBIQUE</td><td>Ordered</td><td>13389324.39</td><td>99</td></tr><tr><td>JORDAN</td><td>Failed</td><td>47810.45</td><td>3</td></tr><tr><td>BRAZIL</td><td>Ordered</td><td>14294915.37</td><td>96</td></tr><tr><td>FRANCE</td><td>Proccesing</td><td>5312379.40</td><td>26</td></tr><tr><td>JORDAN</td><td>Ordered</td><td>17319315.48</td><td>119</td></tr><tr><td>RUSSIA</td><td>Ordered</td><td>11994393.73</td><td>88</td></tr><tr><td>ARGENTINA</td><td>Ordered</td><td>14621331.13</td><td>105</td></tr><tr><td>UNITED STATES</td><td>Ordered</td><td>16521387.94</td><td>115</td></tr><tr><td>SAUDI ARABIA</td><td>Ordered</td><td>10665623.19</td><td>79</td></tr><tr><td>JORDAN</td><td>Proccesing</td><td>3573854.47</td><td>20</td></tr><tr><td>CANADA</td><td>Ordered</td><td>14208056.92</td><td>99</td></tr><tr><td>INDIA</td><td>Proccesing</td><td>5583609.72</td><td>30</td></tr><tr><td>ROMANIA</td><td>Ordered</td><td>17511013.06</td><td>110</td></tr><tr><td>JAPAN</td><td>Ordered</td><td>14713706.45</td><td>106</td></tr><tr><td>ARGENTINA</td><td>Proccesing</td><td>3918524.56</td><td>19</td></tr><tr><td>GERMANY</td><td>Proccesing</td><td>4942161.81</td><td>27</td></tr><tr><td>MOZAMBIQUE</td><td>Proccesing</td><td>4968219.96</td><td>25</td></tr><tr><td>INDONESIA</td><td>Proccesing</td><td>3803683.85</td><td>17</td></tr><tr><td>IRAQ</td><td>Ordered</td><td>12252821.61</td><td>92</td></tr><tr><td>IRAN</td><td>Ordered</td><td>14493930.17</td><td>103</td></tr><tr><td>FRANCE</td><td>Failed</td><td>61155.91</td><td>1</td></tr><tr><td>ARGENTINA</td><td>Failed</td><td>17802.69</td><td>1</td></tr><tr><td>KENYA</td><td>Failed</td><td>29872.13</td><td>1</td></tr><tr><td>ALGERIA</td><td>Failed</td><td>85368.83</td><td>3</td></tr><tr><td>EGYPT</td><td>Failed</td><td>103085.36</td><td>1</td></tr><tr><td>MOZAMBIQUE</td><td>Failed</td><td>44338.68</td><td>1</td></tr><tr><td>BRAZIL</td><td>Failed</td><td>140305.64</td><td>2</td></tr><tr><td>UNITED STATES</td><td>Failed</td><td>88582.22</td><td>1</td></tr><tr><td>ETHIOPIA</td><td>Failed</td><td>52267.93</td><td>1</td></tr><tr><td>UNITED KINGDOM</td><td>Failed</td><td>60000.73</td><td>2</td></tr><tr><td>CHINA</td><td>Failed</td><td>19879.24</td><td>2</td></tr><tr><td>RUSSIA</td><td>Failed</td><td>32524.29</td><td>1</td></tr><tr><td>GERMANY</td><td>Failed</td><td>74376.23</td><td>2</td></tr><tr><td>MOROCCO</td><td>Failed</td><td>83266.87</td><td>1</td></tr></tbody></table></div>"
      ]
     },
     "metadata": {
      "application/vnd.databricks.v1+output": {
       "addedWidgets": {},
       "aggData": [],
       "aggError": "",
       "aggOverflow": false,
       "aggSchema": [],
       "aggSeriesLimitReached": false,
       "aggType": "",
       "arguments": {},
       "columnCustomDisplayInfos": {},
       "data": [
        [
         "CHINA",
         "Ordered",
         "13597652.13",
         90
        ],
        [
         "INDIA",
         "Ordered",
         "15556860.72",
         108
        ],
        [
         "UNITED KINGDOM",
         "Proccesing",
         "4066783.73",
         21
        ],
        [
         "GERMANY",
         "Ordered",
         "12688658.02",
         95
        ],
        [
         "IRAN",
         "Proccesing",
         "5395171.64",
         28
        ],
        [
         "IRAQ",
         "Proccesing",
         "4263762.24",
         24
        ],
        [
         "ALGERIA",
         "Ordered",
         "14325611.42",
         100
        ],
        [
         "CHINA",
         "Proccesing",
         "3537359.49",
         17
        ],
        [
         "JAPAN",
         "Failed",
         "26833.53",
         1
        ],
        [
         "KENYA",
         "Ordered",
         "13709912.54",
         91
        ],
        [
         "EGYPT",
         "Proccesing",
         "3960059.78",
         20
        ],
        [
         "UNITED KINGDOM",
         "Ordered",
         "14474535.76",
         108
        ],
        [
         "INDONESIA",
         "Ordered",
         "14032108.00",
         104
        ],
        [
         "MOROCCO",
         "Proccesing",
         "4556773.12",
         24
        ],
        [
         "EGYPT",
         "Ordered",
         "11913345.85",
         93
        ],
        [
         "MOROCCO",
         "Ordered",
         "16034466.94",
         102
        ],
        [
         "BRAZIL",
         "Proccesing",
         "5080431.62",
         28
        ],
        [
         "PERU",
         "Ordered",
         "16149131.35",
         100
        ],
        [
         "VIETNAM",
         "Proccesing",
         "4867874.34",
         26
        ],
        [
         "VIETNAM",
         "Failed",
         "28934.83",
         1
        ],
        [
         "RUSSIA",
         "Proccesing",
         "5682627.93",
         26
        ],
        [
         "JAPAN",
         "Proccesing",
         "4963768.80",
         25
        ],
        [
         "ETHIOPIA",
         "Ordered",
         "15319622.74",
         100
        ],
        [
         "ROMANIA",
         "Proccesing",
         "4807619.96",
         22
        ],
        [
         "ALGERIA",
         "Proccesing",
         "4129242.84",
         22
        ],
        [
         "ETHIOPIA",
         "Proccesing",
         "4692462.38",
         25
        ],
        [
         "UNITED STATES",
         "Proccesing",
         "3553150.94",
         21
        ],
        [
         "FRANCE",
         "Ordered",
         "13917036.97",
         98
        ],
        [
         "CANADA",
         "Proccesing",
         "3168392.27",
         14
        ],
        [
         "SAUDI ARABIA",
         "Proccesing",
         "4815759.75",
         26
        ],
        [
         "VIETNAM",
         "Ordered",
         "11941124.09",
         88
        ],
        [
         "PERU",
         "Proccesing",
         "4933935.08",
         25
        ],
        [
         "KENYA",
         "Proccesing",
         "5835073.74",
         30
        ],
        [
         "MOZAMBIQUE",
         "Ordered",
         "13389324.39",
         99
        ],
        [
         "JORDAN",
         "Failed",
         "47810.45",
         3
        ],
        [
         "BRAZIL",
         "Ordered",
         "14294915.37",
         96
        ],
        [
         "FRANCE",
         "Proccesing",
         "5312379.40",
         26
        ],
        [
         "JORDAN",
         "Ordered",
         "17319315.48",
         119
        ],
        [
         "RUSSIA",
         "Ordered",
         "11994393.73",
         88
        ],
        [
         "ARGENTINA",
         "Ordered",
         "14621331.13",
         105
        ],
        [
         "UNITED STATES",
         "Ordered",
         "16521387.94",
         115
        ],
        [
         "SAUDI ARABIA",
         "Ordered",
         "10665623.19",
         79
        ],
        [
         "JORDAN",
         "Proccesing",
         "3573854.47",
         20
        ],
        [
         "CANADA",
         "Ordered",
         "14208056.92",
         99
        ],
        [
         "INDIA",
         "Proccesing",
         "5583609.72",
         30
        ],
        [
         "ROMANIA",
         "Ordered",
         "17511013.06",
         110
        ],
        [
         "JAPAN",
         "Ordered",
         "14713706.45",
         106
        ],
        [
         "ARGENTINA",
         "Proccesing",
         "3918524.56",
         19
        ],
        [
         "GERMANY",
         "Proccesing",
         "4942161.81",
         27
        ],
        [
         "MOZAMBIQUE",
         "Proccesing",
         "4968219.96",
         25
        ],
        [
         "INDONESIA",
         "Proccesing",
         "3803683.85",
         17
        ],
        [
         "IRAQ",
         "Ordered",
         "12252821.61",
         92
        ],
        [
         "IRAN",
         "Ordered",
         "14493930.17",
         103
        ],
        [
         "FRANCE",
         "Failed",
         "61155.91",
         1
        ],
        [
         "ARGENTINA",
         "Failed",
         "17802.69",
         1
        ],
        [
         "KENYA",
         "Failed",
         "29872.13",
         1
        ],
        [
         "ALGERIA",
         "Failed",
         "85368.83",
         3
        ],
        [
         "EGYPT",
         "Failed",
         "103085.36",
         1
        ],
        [
         "MOZAMBIQUE",
         "Failed",
         "44338.68",
         1
        ],
        [
         "BRAZIL",
         "Failed",
         "140305.64",
         2
        ],
        [
         "UNITED STATES",
         "Failed",
         "88582.22",
         1
        ],
        [
         "ETHIOPIA",
         "Failed",
         "52267.93",
         1
        ],
        [
         "UNITED KINGDOM",
         "Failed",
         "60000.73",
         2
        ],
        [
         "CHINA",
         "Failed",
         "19879.24",
         2
        ],
        [
         "RUSSIA",
         "Failed",
         "32524.29",
         1
        ],
        [
         "GERMANY",
         "Failed",
         "74376.23",
         2
        ],
        [
         "MOROCCO",
         "Failed",
         "83266.87",
         1
        ]
       ],
       "datasetInfos": [],
       "dbfsResultPath": null,
       "isJsonSchema": true,
       "metadata": {},
       "overflow": false,
       "plotOptions": {
        "customPlotOptions": {},
        "displayType": "table",
        "pivotAggregation": null,
        "pivotColumns": null,
        "xColumns": null,
        "yColumns": null
       },
       "removedWidgets": [],
       "schema": [
        {
         "metadata": "{}",
         "name": "NationName",
         "type": "\"string\""
        },
        {
         "metadata": "{}",
         "name": "Status",
         "type": "\"string\""
        },
        {
         "metadata": "{}",
         "name": "SumTotalAmt",
         "type": "\"decimal(28,2)\""
        },
        {
         "metadata": "{}",
         "name": "TotalOrderCount",
         "type": "\"long\""
        }
       ],
       "type": "table"
      }
     },
     "output_type": "display_data"
    },
    {
     "output_type": "display_data",
     "data": {
      "text/plain": [
       "Databricks visualization. Run in Databricks to view."
      ]
     },
     "metadata": {
      "application/vnd.databricks.v1.subcommand+json": {
       "bindings": {},
       "collapsed": false,
       "command": "%python\n__backend_agg_display_orig = display\n__backend_agg_dfs = []\ndef __backend_agg_display_new(df):\n    __backend_agg_df_modules = [\"pandas.core.frame\", \"databricks.koalas.frame\", \"pyspark.sql.dataframe\", \"pyspark.pandas.frame\", \"pyspark.sql.connect.dataframe\"]\n    if (type(df).__module__ in __backend_agg_df_modules and type(df).__name__ == 'DataFrame') or isinstance(df, list):\n        __backend_agg_dfs.append(df)\n\ndisplay = __backend_agg_display_new\n\ndef __backend_agg_user_code_fn():\n    import base64\n    exec(base64.standard_b64decode(\"ZnJvbSBweXNwYXJrLnNxbC5mdW5jdGlvbnMgaW1wb3J0IHN1bSxhdmcsbWF4LGNvdW50CmRpc3BsYXkocmVzLmZpbHRlcihyZXMuT3JkZXJEYXRlID09ICcxOTk1LTA2LTEwJykuZ3JvdXBCeSgnTmF0aW9uTmFtZScsJ1N0YXR1cycpLmFnZyhzdW0oJ1RvdGFsQW10JykuYWxpYXMoJ1N1bVRvdGFsQW10JyksY291bnQoJ09yZGVyS2V5JykuYWxpYXMoJ1RvdGFsT3JkZXJDb3VudCcpKSk=\").decode())\n\ntry:\n    # run user code\n    __backend_agg_user_code_fn()\n\n    #reset display function\n    display = __backend_agg_display_orig\n\n    if len(__backend_agg_dfs) > 0:\n        # create a temp view\n        if hasattr(__backend_agg_dfs[0], \"to_spark\"):\n            # koalas dataframe\n            __backend_agg_dfs[0].to_spark().createOrReplaceTempView(\"DatabricksView8a20f6d\")\n        elif type(__backend_agg_dfs[0]).__module__ == \"pandas.core.frame\" or isinstance(__backend_agg_dfs[0], list):\n            # pandas dataframe\n            spark.createDataFrame(__backend_agg_dfs[0]).createOrReplaceTempView(\"DatabricksView8a20f6d\")\n        else:\n            __backend_agg_dfs[0].createOrReplaceTempView(\"DatabricksView8a20f6d\")\n        #run backend agg\n        display(spark.sql(\"\"\"WITH q AS (select * from DatabricksView8a20f6d) SELECT `NationName`,AVG(`SumTotalAmt`) `column_f1b4792d10`,`Status` FROM q GROUP BY `NationName`,`Status`\"\"\"))\n    else:\n        displayHTML(\"dataframe no longer exists. If you're using dataframe.display(), use display(dataframe) instead.\")\n\n\nfinally:\n    spark.sql(\"drop view if exists DatabricksView8a20f6d\")\n    display = __backend_agg_display_orig\n    del __backend_agg_display_new\n    del __backend_agg_display_orig\n    del __backend_agg_dfs\n    del __backend_agg_user_code_fn\n\n",
       "commandTitle": "Avg of order by Country",
       "commandType": "auto",
       "commandVersion": 0,
       "commentThread": [],
       "commentsVisible": false,
       "contentSha256Hex": null,
       "customPlotOptions": {
        "redashChart": [
         {
          "key": "type",
          "value": "CHART"
         },
         {
          "key": "options",
          "value": {
           "alignYAxesAtZero": true,
           "coefficient": 1,
           "columnConfigurationMap": {
            "series": {
             "column": "Status",
             "id": "column_f1b4792d18"
            },
            "x": {
             "column": "NationName",
             "id": "column_f1b4792d15"
            },
            "y": [
             {
              "column": "SumTotalAmt",
              "id": "column_f1b4792d10",
              "transform": "AVG"
             }
            ]
           },
           "dateTimeFormat": "DD/MM/YYYY HH:mm",
           "direction": {
            "type": "counterclockwise"
           },
           "error_y": {
            "type": "data",
            "visible": true
           },
           "globalSeriesType": "area",
           "hideXAxis": false,
           "isAggregationOn": true,
           "legend": {
            "traceorder": "normal"
           },
           "missingValuesAsZero": true,
           "numberFormat": "0,0[.]00000",
           "percentFormat": "0[.]00%",
           "reverseX": true,
           "series": {
            "error_y": {
             "type": "data",
             "visible": true
            },
            "stacking": null
           },
           "seriesOptions": {
            "Failed": {
             "color": "#494949"
            },
            "Ordered": {
             "color": "#002FB4"
            },
            "Proccesing": {
             "color": "#8CFFB4"
            },
            "column_f1b4792d10": {
             "type": "area",
             "yAxis": 0
            },
            "column_f1b4792d17": {
             "type": "area",
             "yAxis": 0
            }
           },
           "showDataLabels": false,
           "sizemode": "diameter",
           "sortX": true,
           "sortY": true,
           "swappedAxes": false,
           "textFormat": "",
           "useAggregationsUi": true,
           "valuesOptions": {},
           "version": 2,
           "xAxis": {
            "labels": {
             "enabled": true
            },
            "type": "-"
           },
           "yAxis": [
            {
             "type": "-"
            },
            {
             "opposite": true,
             "type": "-"
            }
           ]
          }
         }
        ]
       },
       "datasetPreviewNameToCmdIdMap": {},
       "diffDeletes": [],
       "diffInserts": [],
       "displayType": "redashChart",
       "error": null,
       "errorSummary": null,
       "errorTraceType": null,
       "finishTime": 0,
       "globalVars": {},
       "guid": "3e20d7d8-4dad-49f4-a1b8-6c6b887ecf53",
       "height": "auto",
       "hideCommandCode": false,
       "hideCommandResult": false,
       "iPythonMetadata": null,
       "inputWidgets": {},
       "isLockedInExamMode": false,
       "latestUser": "a user",
       "latestUserId": null,
       "listResultMetadata": null,
       "metadata": {
        "byteLimit": 2048000,
        "rowLimit": 10000
       },
       "nuid": "ae8a897e-cc25-41ec-9bc4-8d6316681701",
       "origId": 4476185660315027,
       "parentHierarchy": [
        "6e3f737b-ea24-4b62-b099-d3b0f5a60ce3"
       ],
       "pivotAggregation": null,
       "pivotColumns": null,
       "position": 8.0,
       "resultDbfsErrorMessage": null,
       "resultDbfsStatus": "INLINED_IN_TREE",
       "results": null,
       "showCommandTitle": false,
       "startTime": 0,
       "state": "finished",
       "streamStates": {},
       "subcommandOptions": {
        "queryPlan": {
         "groups": [
          {
           "column": "NationName",
           "type": "column"
          },
          {
           "column": "Status",
           "type": "column"
          }
         ],
         "selects": [
          {
           "column": "NationName",
           "type": "column"
          },
          {
           "alias": "column_f1b4792d10",
           "args": [
            {
             "column": "SumTotalAmt",
             "type": "column"
            }
           ],
           "function": "AVG",
           "type": "function"
          },
          {
           "column": "Status",
           "type": "column"
          }
         ]
        }
       },
       "submitTime": 0,
       "subtype": "tableResultSubCmd.visualization",
       "tableResultIndex": 0,
       "useConsistentColors": false,
       "version": "CommandV1",
       "width": "auto",
       "workflows": [],
       "xColumns": null,
       "yColumns": null
      }
     },
     "output_type": "display_data"
    },
    {
     "output_type": "display_data",
     "data": {
      "text/plain": [
       "Databricks visualization. Run in Databricks to view."
      ]
     },
     "metadata": {
      "application/vnd.databricks.v1.subcommand+json": {
       "bindings": {},
       "collapsed": false,
       "command": "from pyspark.sql.functions import sum,avg,max,count\ndisplay(res.filter(res.OrderDate == '1995-06-10').groupBy('NationName','Status').agg(sum('TotalAmt').alias('SumTotalAmt'),count('OrderKey').alias('TotalOrderCount')))",
       "commandTitle": "Visualization 1",
       "commandType": "auto",
       "commandVersion": 0,
       "commentThread": [],
       "commentsVisible": false,
       "contentSha256Hex": null,
       "customPlotOptions": {
        "redashChart": [
         {
          "key": "type",
          "value": "FUNNEL"
         },
         {
          "key": "options",
          "value": {
           "autoSort": true,
           "itemsLimit": 100,
           "numberFormat": "0,0[.]00",
           "percentFormat": "0[.]00%",
           "percentValuesRange": {
            "max": 1000,
            "min": 0.01
           },
           "sortKeyCol": {
            "colName": "TotalOrderCount",
            "reverse": true
           },
           "stepCol": {
            "colName": "NationName",
            "displayAs": "Steps"
           },
           "valueCol": {
            "colName": "TotalOrderCount",
            "displayAs": "Value"
           }
          }
         }
        ]
       },
       "datasetPreviewNameToCmdIdMap": {},
       "diffDeletes": [],
       "diffInserts": [],
       "displayType": "redashChart",
       "error": null,
       "errorSummary": null,
       "errorTraceType": null,
       "finishTime": 0,
       "globalVars": {},
       "guid": "ee09bf0e-011c-4490-b6a6-bb018347d0bc",
       "height": "auto",
       "hideCommandCode": false,
       "hideCommandResult": false,
       "iPythonMetadata": null,
       "inputWidgets": {},
       "isLockedInExamMode": false,
       "latestUser": "a user",
       "latestUserId": null,
       "listResultMetadata": null,
       "metadata": {
        "byteLimit": 2048000,
        "rowLimit": 10000
       },
       "nuid": "f7cac029-c675-4648-b515-0efe3fd09bf6",
       "origId": 4476185660315035,
       "parentHierarchy": [
        "6e3f737b-ea24-4b62-b099-d3b0f5a60ce3"
       ],
       "pivotAggregation": null,
       "pivotColumns": null,
       "position": 9.0,
       "resultDbfsErrorMessage": null,
       "resultDbfsStatus": "INLINED_IN_TREE",
       "results": null,
       "showCommandTitle": false,
       "startTime": 0,
       "state": "finished",
       "streamStates": {},
       "subcommandOptions": {},
       "submitTime": 0,
       "subtype": "tableResultSubCmd.visualization",
       "tableResultIndex": 0,
       "useConsistentColors": false,
       "version": "CommandV1",
       "width": "auto",
       "workflows": [],
       "xColumns": null,
       "yColumns": null
      }
     },
     "output_type": "display_data"
    }
   ],
   "source": [
    "from pyspark.sql.functions import sum,avg,max,count\n",
    "display(res.filter(res.OrderDate == '1995-06-10').groupBy('NationName','Status').agg(sum('TotalAmt').alias('SumTotalAmt'),count('OrderKey').alias('TotalOrderCount')))"
   ]
  },
  {
   "cell_type": "code",
   "execution_count": 0,
   "metadata": {
    "application/vnd.databricks.v1+cell": {
     "cellMetadata": {
      "byteLimit": 2048000,
      "rowLimit": 10000
     },
     "inputWidgets": {},
     "nuid": "3c243a5b-de8f-46eb-9204-7dc8be03cd7e",
     "showTitle": false,
     "title": ""
    }
   },
   "outputs": [
    {
     "output_type": "display_data",
     "data": {
      "text/html": [
       "<style scoped>\n",
       "  .table-result-container {\n",
       "    max-height: 300px;\n",
       "    overflow: auto;\n",
       "  }\n",
       "  table, th, td {\n",
       "    border: 1px solid black;\n",
       "    border-collapse: collapse;\n",
       "  }\n",
       "  th, td {\n",
       "    padding: 5px;\n",
       "  }\n",
       "  th {\n",
       "    text-align: left;\n",
       "  }\n",
       "</style><div class='table-result-container'><table class='table-result'><thead style='background-color: white'><tr><th>OrderDate</th><th>SumTotalSales</th><th>TotalOrderCount</th></tr></thead><tbody><tr><td>1995-02-21</td><td>378337429.90</td><td>2598</td></tr><tr><td>1995-02-01</td><td>469403915.34</td><td>3066</td></tr><tr><td>1995-02-08</td><td>475118268.43</td><td>3143</td></tr><tr><td>1995-01-23</td><td>481846486.20</td><td>3172</td></tr><tr><td>1995-03-17</td><td>131206498.52</td><td>1189</td></tr><tr><td>1995-02-20</td><td>404670758.04</td><td>2762</td></tr><tr><td>1995-05-08</td><td>14425381.86</td><td>253</td></tr><tr><td>1995-03-20</td><td>122027910.99</td><td>1114</td></tr><tr><td>1995-03-28</td><td>75385944.95</td><td>819</td></tr><tr><td>1995-05-05</td><td>13337304.95</td><td>246</td></tr><tr><td>1995-06-12</td><td>533600.92</td><td>18</td></tr><tr><td>1995-03-18</td><td>126525574.79</td><td>1151</td></tr><tr><td>1995-01-31</td><td>484337333.43</td><td>3171</td></tr><tr><td>1995-02-04</td><td>474709327.97</td><td>3153</td></tr><tr><td>1995-04-29</td><td>18334874.27</td><td>296</td></tr><tr><td>1995-05-20</td><td>6381027.89</td><td>138</td></tr><tr><td>1995-01-17</td><td>488124319.11</td><td>3190</td></tr><tr><td>1995-03-16</td><td>144722613.38</td><td>1273</td></tr><tr><td>1995-06-05</td><td>1789924.70</td><td>40</td></tr><tr><td>1995-05-04</td><td>14954538.09</td><td>254</td></tr><tr><td>1995-06-16</td><td>267689.09</td><td>9</td></tr><tr><td>1995-04-15</td><td>37914572.86</td><td>488</td></tr><tr><td>1995-05-14</td><td>7575917.96</td><td>150</td></tr><tr><td>1995-02-17</td><td>441374530.50</td><td>2939</td></tr><tr><td>1995-04-16</td><td>35438572.38</td><td>460</td></tr><tr><td>1995-04-06</td><td>57577221.90</td><td>679</td></tr><tr><td>1995-03-04</td><td>228953749.58</td><td>1799</td></tr><tr><td>1995-01-08</td><td>455411464.06</td><td>3010</td></tr><tr><td>1995-04-11</td><td>44396098.46</td><td>539</td></tr><tr><td>1995-04-27</td><td>21043002.32</td><td>325</td></tr><tr><td>1995-02-28</td><td>272817700.19</td><td>2075</td></tr><tr><td>1995-02-05</td><td>472030151.60</td><td>3103</td></tr><tr><td>1995-06-10</td><td>996405.56</td><td>25</td></tr><tr><td>1995-04-14</td><td>37425295.20</td><td>498</td></tr><tr><td>1995-05-29</td><td>4157262.46</td><td>102</td></tr><tr><td>1995-06-02</td><td>2619583.85</td><td>57</td></tr><tr><td>1995-02-03</td><td>466383430.45</td><td>3057</td></tr><tr><td>1995-01-28</td><td>477053866.07</td><td>3178</td></tr><tr><td>1995-01-22</td><td>477465210.05</td><td>3164</td></tr><tr><td>1995-01-27</td><td>451574598.74</td><td>3041</td></tr><tr><td>1995-04-10</td><td>44296900.73</td><td>549</td></tr><tr><td>1995-02-15</td><td>449892924.95</td><td>3045</td></tr><tr><td>1995-01-24</td><td>453675286.18</td><td>3040</td></tr><tr><td>1995-05-23</td><td>6046017.86</td><td>130</td></tr><tr><td>1995-05-22</td><td>5961496.10</td><td>132</td></tr><tr><td>1995-04-21</td><td>24827973.66</td><td>364</td></tr><tr><td>1995-05-26</td><td>5784704.58</td><td>119</td></tr><tr><td>1995-02-14</td><td>467677313.05</td><td>3075</td></tr><tr><td>1995-01-01</td><td>471553129.36</td><td>3106</td></tr><tr><td>1995-06-15</td><td>491324.03</td><td>11</td></tr><tr><td>1995-03-02</td><td>267440223.00</td><td>1994</td></tr><tr><td>1995-06-09</td><td>1327528.30</td><td>33</td></tr><tr><td>1995-06-11</td><td>825019.42</td><td>25</td></tr><tr><td>1995-04-19</td><td>31152101.34</td><td>434</td></tr><tr><td>1995-03-13</td><td>160734222.84</td><td>1386</td></tr><tr><td>1995-03-08</td><td>201893131.85</td><td>1611</td></tr><tr><td>1995-01-10</td><td>472494838.59</td><td>3153</td></tr><tr><td>1995-05-25</td><td>4567334.89</td><td>96</td></tr><tr><td>1995-01-09</td><td>473003749.81</td><td>3118</td></tr><tr><td>1995-05-28</td><td>4318599.42</td><td>91</td></tr><tr><td>1995-03-14</td><td>154902586.57</td><td>1365</td></tr><tr><td>1995-02-07</td><td>482943417.89</td><td>3179</td></tr><tr><td>1995-02-25</td><td>325048056.95</td><td>2312</td></tr><tr><td>1995-06-06</td><td>1785301.40</td><td>48</td></tr><tr><td>1995-04-18</td><td>30061957.36</td><td>400</td></tr><tr><td>1995-03-15</td><td>143623879.72</td><td>1276</td></tr><tr><td>1995-05-19</td><td>6691802.73</td><td>128</td></tr><tr><td>1995-06-14</td><td>394027.40</td><td>11</td></tr><tr><td>1995-05-17</td><td>7333034.95</td><td>149</td></tr><tr><td>1995-06-01</td><td>2145995.66</td><td>47</td></tr><tr><td>1995-05-24</td><td>5128063.02</td><td>121</td></tr><tr><td>1995-03-27</td><td>85869668.59</td><td>876</td></tr><tr><td>1995-04-13</td><td>41201924.14</td><td>528</td></tr><tr><td>1995-04-04</td><td>60214347.60</td><td>644</td></tr><tr><td>1995-05-18</td><td>7578411.01</td><td>155</td></tr><tr><td>1995-05-06</td><td>14535273.05</td><td>261</td></tr><tr><td>1995-03-06</td><td>218495235.26</td><td>1724</td></tr><tr><td>1995-04-22</td><td>27285567.82</td><td>378</td></tr><tr><td>1995-03-03</td><td>245288136.90</td><td>1875</td></tr><tr><td>1995-04-17</td><td>31311621.20</td><td>433</td></tr><tr><td>1995-06-13</td><td>749424.06</td><td>14</td></tr><tr><td>1995-02-12</td><td>472010408.69</td><td>3145</td></tr><tr><td>1995-01-25</td><td>478837698.89</td><td>3143</td></tr><tr><td>1995-02-26</td><td>309066380.73</td><td>2262</td></tr><tr><td>1995-04-01</td><td>68011643.52</td><td>742</td></tr><tr><td>1995-05-03</td><td>16898641.57</td><td>274</td></tr><tr><td>1995-03-09</td><td>196657357.32</td><td>1571</td></tr><tr><td>1995-05-09</td><td>13558011.96</td><td>230</td></tr><tr><td>1995-05-21</td><td>5068042.84</td><td>113</td></tr><tr><td>1995-06-07</td><td>1511981.89</td><td>35</td></tr><tr><td>1995-01-26</td><td>466349343.07</td><td>3086</td></tr><tr><td>1995-05-15</td><td>8893826.72</td><td>169</td></tr><tr><td>1995-03-22</td><td>103895826.85</td><td>1001</td></tr><tr><td>1995-02-13</td><td>475897753.05</td><td>3136</td></tr><tr><td>1995-04-09</td><td>47839910.21</td><td>588</td></tr><tr><td>1995-05-12</td><td>8391850.77</td><td>151</td></tr><tr><td>1995-01-11</td><td>479062889.88</td><td>3181</td></tr><tr><td>1995-05-30</td><td>3029683.18</td><td>77</td></tr><tr><td>1995-01-02</td><td>464026934.83</td><td>3077</td></tr><tr><td>1995-03-12</td><td>173607558.62</td><td>1470</td></tr><tr><td>1995-05-02</td><td>15133501.84</td><td>258</td></tr><tr><td>1995-03-24</td><td>97902479.51</td><td>968</td></tr><tr><td>1995-02-11</td><td>475434576.63</td><td>3097</td></tr><tr><td>1995-01-12</td><td>471002971.92</td><td>3122</td></tr><tr><td>1995-01-15</td><td>481952846.22</td><td>3149</td></tr><tr><td>1995-01-20</td><td>472371833.30</td><td>3103</td></tr><tr><td>1995-02-27</td><td>292954039.23</td><td>2142</td></tr><tr><td>1995-03-07</td><td>207888378.16</td><td>1642</td></tr><tr><td>1995-04-02</td><td>69488795.69</td><td>732</td></tr><tr><td>1995-03-25</td><td>98897967.91</td><td>929</td></tr><tr><td>1995-01-16</td><td>458981901.64</td><td>3070</td></tr><tr><td>1995-03-01</td><td>275951820.95</td><td>2062</td></tr><tr><td>1995-04-07</td><td>52314954.67</td><td>632</td></tr><tr><td>1995-05-31</td><td>2685235.28</td><td>66</td></tr><tr><td>1995-05-01</td><td>15145492.84</td><td>258</td></tr><tr><td>1995-05-13</td><td>8662348.85</td><td>174</td></tr><tr><td>1995-05-07</td><td>14288826.69</td><td>250</td></tr><tr><td>1995-02-22</td><td>358383557.04</td><td>2520</td></tr><tr><td>1995-01-07</td><td>486411470.62</td><td>3186</td></tr><tr><td>1995-04-28</td><td>21170429.00</td><td>332</td></tr><tr><td>1995-03-11</td><td>176732051.40</td><td>1473</td></tr><tr><td>1995-06-04</td><td>2377026.02</td><td>57</td></tr><tr><td>1995-03-30</td><td>75539446.89</td><td>768</td></tr><tr><td>1995-01-05</td><td>470505466.73</td><td>3140</td></tr><tr><td>1995-03-21</td><td>110436062.22</td><td>1056</td></tr><tr><td>1995-04-05</td><td>57888679.86</td><td>667</td></tr><tr><td>1995-02-18</td><td>430813351.95</td><td>2903</td></tr><tr><td>1995-03-05</td><td>232537601.54</td><td>1798</td></tr><tr><td>1995-03-26</td><td>84746525.67</td><td>871</td></tr><tr><td>1995-01-04</td><td>474355095.05</td><td>3177</td></tr><tr><td>1995-04-26</td><td>20993167.23</td><td>303</td></tr><tr><td>1995-02-09</td><td>470681202.88</td><td>3108</td></tr><tr><td>1995-05-10</td><td>12213134.53</td><td>202</td></tr><tr><td>1995-01-29</td><td>475847182.02</td><td>3131</td></tr><tr><td>1995-04-25</td><td>21317002.92</td><td>325</td></tr><tr><td>1995-06-03</td><td>3290405.65</td><td>70</td></tr><tr><td>1995-01-18</td><td>481134460.96</td><td>3156</td></tr><tr><td>1995-02-16</td><td>468094954.03</td><td>3123</td></tr><tr><td>1995-06-08</td><td>1706202.87</td><td>37</td></tr><tr><td>1995-02-02</td><td>470429347.78</td><td>3144</td></tr><tr><td>1995-04-03</td><td>60721328.14</td><td>711</td></tr><tr><td>1995-03-29</td><td>79300590.63</td><td>848</td></tr><tr><td>1995-03-23</td><td>94682066.03</td><td>916</td></tr><tr><td>1995-01-30</td><td>466044559.65</td><td>3104</td></tr><tr><td>1995-01-19</td><td>470975040.14</td><td>3136</td></tr><tr><td>1995-04-23</td><td>27399108.11</td><td>404</td></tr><tr><td>1995-02-19</td><td>422116606.43</td><td>2883</td></tr><tr><td>1995-05-11</td><td>12225847.91</td><td>210</td></tr><tr><td>1995-01-06</td><td>481284058.49</td><td>3125</td></tr><tr><td>1995-02-23</td><td>340034336.50</td><td>2352</td></tr><tr><td>1995-02-10</td><td>480293739.47</td><td>3179</td></tr><tr><td>1995-04-08</td><td>54198743.89</td><td>624</td></tr><tr><td>1995-02-06</td><td>460351187.79</td><td>3056</td></tr><tr><td>1995-03-31</td><td>73571957.44</td><td>777</td></tr><tr><td>1995-02-24</td><td>343085181.88</td><td>2436</td></tr><tr><td>1995-04-12</td><td>38813153.48</td><td>492</td></tr><tr><td>1995-01-13</td><td>507373240.87</td><td>3333</td></tr><tr><td>1995-01-21</td><td>464231133.33</td><td>3069</td></tr><tr><td>1995-05-16</td><td>8883415.51</td><td>174</td></tr><tr><td>1995-01-14</td><td>482359241.83</td><td>3174</td></tr><tr><td>1995-04-20</td><td>33915011.53</td><td>453</td></tr><tr><td>1995-04-24</td><td>23504427.62</td><td>336</td></tr><tr><td>1995-01-03</td><td>470785229.18</td><td>3136</td></tr><tr><td>1995-03-10</td><td>178718479.80</td><td>1463</td></tr><tr><td>1995-04-30</td><td>17937032.78</td><td>291</td></tr><tr><td>1995-03-19</td><td>128255992.61</td><td>1199</td></tr><tr><td>1995-05-27</td><td>3176757.92</td><td>78</td></tr></tbody></table></div>"
      ]
     },
     "metadata": {
      "application/vnd.databricks.v1+output": {
       "addedWidgets": {},
       "aggData": [],
       "aggError": "",
       "aggOverflow": false,
       "aggSchema": [],
       "aggSeriesLimitReached": false,
       "aggType": "",
       "arguments": {},
       "columnCustomDisplayInfos": {},
       "data": [
        [
         "1995-02-21",
         "378337429.90",
         2598
        ],
        [
         "1995-02-01",
         "469403915.34",
         3066
        ],
        [
         "1995-02-08",
         "475118268.43",
         3143
        ],
        [
         "1995-01-23",
         "481846486.20",
         3172
        ],
        [
         "1995-03-17",
         "131206498.52",
         1189
        ],
        [
         "1995-02-20",
         "404670758.04",
         2762
        ],
        [
         "1995-05-08",
         "14425381.86",
         253
        ],
        [
         "1995-03-20",
         "122027910.99",
         1114
        ],
        [
         "1995-03-28",
         "75385944.95",
         819
        ],
        [
         "1995-05-05",
         "13337304.95",
         246
        ],
        [
         "1995-06-12",
         "533600.92",
         18
        ],
        [
         "1995-03-18",
         "126525574.79",
         1151
        ],
        [
         "1995-01-31",
         "484337333.43",
         3171
        ],
        [
         "1995-02-04",
         "474709327.97",
         3153
        ],
        [
         "1995-04-29",
         "18334874.27",
         296
        ],
        [
         "1995-05-20",
         "6381027.89",
         138
        ],
        [
         "1995-01-17",
         "488124319.11",
         3190
        ],
        [
         "1995-03-16",
         "144722613.38",
         1273
        ],
        [
         "1995-06-05",
         "1789924.70",
         40
        ],
        [
         "1995-05-04",
         "14954538.09",
         254
        ],
        [
         "1995-06-16",
         "267689.09",
         9
        ],
        [
         "1995-04-15",
         "37914572.86",
         488
        ],
        [
         "1995-05-14",
         "7575917.96",
         150
        ],
        [
         "1995-02-17",
         "441374530.50",
         2939
        ],
        [
         "1995-04-16",
         "35438572.38",
         460
        ],
        [
         "1995-04-06",
         "57577221.90",
         679
        ],
        [
         "1995-03-04",
         "228953749.58",
         1799
        ],
        [
         "1995-01-08",
         "455411464.06",
         3010
        ],
        [
         "1995-04-11",
         "44396098.46",
         539
        ],
        [
         "1995-04-27",
         "21043002.32",
         325
        ],
        [
         "1995-02-28",
         "272817700.19",
         2075
        ],
        [
         "1995-02-05",
         "472030151.60",
         3103
        ],
        [
         "1995-06-10",
         "996405.56",
         25
        ],
        [
         "1995-04-14",
         "37425295.20",
         498
        ],
        [
         "1995-05-29",
         "4157262.46",
         102
        ],
        [
         "1995-06-02",
         "2619583.85",
         57
        ],
        [
         "1995-02-03",
         "466383430.45",
         3057
        ],
        [
         "1995-01-28",
         "477053866.07",
         3178
        ],
        [
         "1995-01-22",
         "477465210.05",
         3164
        ],
        [
         "1995-01-27",
         "451574598.74",
         3041
        ],
        [
         "1995-04-10",
         "44296900.73",
         549
        ],
        [
         "1995-02-15",
         "449892924.95",
         3045
        ],
        [
         "1995-01-24",
         "453675286.18",
         3040
        ],
        [
         "1995-05-23",
         "6046017.86",
         130
        ],
        [
         "1995-05-22",
         "5961496.10",
         132
        ],
        [
         "1995-04-21",
         "24827973.66",
         364
        ],
        [
         "1995-05-26",
         "5784704.58",
         119
        ],
        [
         "1995-02-14",
         "467677313.05",
         3075
        ],
        [
         "1995-01-01",
         "471553129.36",
         3106
        ],
        [
         "1995-06-15",
         "491324.03",
         11
        ],
        [
         "1995-03-02",
         "267440223.00",
         1994
        ],
        [
         "1995-06-09",
         "1327528.30",
         33
        ],
        [
         "1995-06-11",
         "825019.42",
         25
        ],
        [
         "1995-04-19",
         "31152101.34",
         434
        ],
        [
         "1995-03-13",
         "160734222.84",
         1386
        ],
        [
         "1995-03-08",
         "201893131.85",
         1611
        ],
        [
         "1995-01-10",
         "472494838.59",
         3153
        ],
        [
         "1995-05-25",
         "4567334.89",
         96
        ],
        [
         "1995-01-09",
         "473003749.81",
         3118
        ],
        [
         "1995-05-28",
         "4318599.42",
         91
        ],
        [
         "1995-03-14",
         "154902586.57",
         1365
        ],
        [
         "1995-02-07",
         "482943417.89",
         3179
        ],
        [
         "1995-02-25",
         "325048056.95",
         2312
        ],
        [
         "1995-06-06",
         "1785301.40",
         48
        ],
        [
         "1995-04-18",
         "30061957.36",
         400
        ],
        [
         "1995-03-15",
         "143623879.72",
         1276
        ],
        [
         "1995-05-19",
         "6691802.73",
         128
        ],
        [
         "1995-06-14",
         "394027.40",
         11
        ],
        [
         "1995-05-17",
         "7333034.95",
         149
        ],
        [
         "1995-06-01",
         "2145995.66",
         47
        ],
        [
         "1995-05-24",
         "5128063.02",
         121
        ],
        [
         "1995-03-27",
         "85869668.59",
         876
        ],
        [
         "1995-04-13",
         "41201924.14",
         528
        ],
        [
         "1995-04-04",
         "60214347.60",
         644
        ],
        [
         "1995-05-18",
         "7578411.01",
         155
        ],
        [
         "1995-05-06",
         "14535273.05",
         261
        ],
        [
         "1995-03-06",
         "218495235.26",
         1724
        ],
        [
         "1995-04-22",
         "27285567.82",
         378
        ],
        [
         "1995-03-03",
         "245288136.90",
         1875
        ],
        [
         "1995-04-17",
         "31311621.20",
         433
        ],
        [
         "1995-06-13",
         "749424.06",
         14
        ],
        [
         "1995-02-12",
         "472010408.69",
         3145
        ],
        [
         "1995-01-25",
         "478837698.89",
         3143
        ],
        [
         "1995-02-26",
         "309066380.73",
         2262
        ],
        [
         "1995-04-01",
         "68011643.52",
         742
        ],
        [
         "1995-05-03",
         "16898641.57",
         274
        ],
        [
         "1995-03-09",
         "196657357.32",
         1571
        ],
        [
         "1995-05-09",
         "13558011.96",
         230
        ],
        [
         "1995-05-21",
         "5068042.84",
         113
        ],
        [
         "1995-06-07",
         "1511981.89",
         35
        ],
        [
         "1995-01-26",
         "466349343.07",
         3086
        ],
        [
         "1995-05-15",
         "8893826.72",
         169
        ],
        [
         "1995-03-22",
         "103895826.85",
         1001
        ],
        [
         "1995-02-13",
         "475897753.05",
         3136
        ],
        [
         "1995-04-09",
         "47839910.21",
         588
        ],
        [
         "1995-05-12",
         "8391850.77",
         151
        ],
        [
         "1995-01-11",
         "479062889.88",
         3181
        ],
        [
         "1995-05-30",
         "3029683.18",
         77
        ],
        [
         "1995-01-02",
         "464026934.83",
         3077
        ],
        [
         "1995-03-12",
         "173607558.62",
         1470
        ],
        [
         "1995-05-02",
         "15133501.84",
         258
        ],
        [
         "1995-03-24",
         "97902479.51",
         968
        ],
        [
         "1995-02-11",
         "475434576.63",
         3097
        ],
        [
         "1995-01-12",
         "471002971.92",
         3122
        ],
        [
         "1995-01-15",
         "481952846.22",
         3149
        ],
        [
         "1995-01-20",
         "472371833.30",
         3103
        ],
        [
         "1995-02-27",
         "292954039.23",
         2142
        ],
        [
         "1995-03-07",
         "207888378.16",
         1642
        ],
        [
         "1995-04-02",
         "69488795.69",
         732
        ],
        [
         "1995-03-25",
         "98897967.91",
         929
        ],
        [
         "1995-01-16",
         "458981901.64",
         3070
        ],
        [
         "1995-03-01",
         "275951820.95",
         2062
        ],
        [
         "1995-04-07",
         "52314954.67",
         632
        ],
        [
         "1995-05-31",
         "2685235.28",
         66
        ],
        [
         "1995-05-01",
         "15145492.84",
         258
        ],
        [
         "1995-05-13",
         "8662348.85",
         174
        ],
        [
         "1995-05-07",
         "14288826.69",
         250
        ],
        [
         "1995-02-22",
         "358383557.04",
         2520
        ],
        [
         "1995-01-07",
         "486411470.62",
         3186
        ],
        [
         "1995-04-28",
         "21170429.00",
         332
        ],
        [
         "1995-03-11",
         "176732051.40",
         1473
        ],
        [
         "1995-06-04",
         "2377026.02",
         57
        ],
        [
         "1995-03-30",
         "75539446.89",
         768
        ],
        [
         "1995-01-05",
         "470505466.73",
         3140
        ],
        [
         "1995-03-21",
         "110436062.22",
         1056
        ],
        [
         "1995-04-05",
         "57888679.86",
         667
        ],
        [
         "1995-02-18",
         "430813351.95",
         2903
        ],
        [
         "1995-03-05",
         "232537601.54",
         1798
        ],
        [
         "1995-03-26",
         "84746525.67",
         871
        ],
        [
         "1995-01-04",
         "474355095.05",
         3177
        ],
        [
         "1995-04-26",
         "20993167.23",
         303
        ],
        [
         "1995-02-09",
         "470681202.88",
         3108
        ],
        [
         "1995-05-10",
         "12213134.53",
         202
        ],
        [
         "1995-01-29",
         "475847182.02",
         3131
        ],
        [
         "1995-04-25",
         "21317002.92",
         325
        ],
        [
         "1995-06-03",
         "3290405.65",
         70
        ],
        [
         "1995-01-18",
         "481134460.96",
         3156
        ],
        [
         "1995-02-16",
         "468094954.03",
         3123
        ],
        [
         "1995-06-08",
         "1706202.87",
         37
        ],
        [
         "1995-02-02",
         "470429347.78",
         3144
        ],
        [
         "1995-04-03",
         "60721328.14",
         711
        ],
        [
         "1995-03-29",
         "79300590.63",
         848
        ],
        [
         "1995-03-23",
         "94682066.03",
         916
        ],
        [
         "1995-01-30",
         "466044559.65",
         3104
        ],
        [
         "1995-01-19",
         "470975040.14",
         3136
        ],
        [
         "1995-04-23",
         "27399108.11",
         404
        ],
        [
         "1995-02-19",
         "422116606.43",
         2883
        ],
        [
         "1995-05-11",
         "12225847.91",
         210
        ],
        [
         "1995-01-06",
         "481284058.49",
         3125
        ],
        [
         "1995-02-23",
         "340034336.50",
         2352
        ],
        [
         "1995-02-10",
         "480293739.47",
         3179
        ],
        [
         "1995-04-08",
         "54198743.89",
         624
        ],
        [
         "1995-02-06",
         "460351187.79",
         3056
        ],
        [
         "1995-03-31",
         "73571957.44",
         777
        ],
        [
         "1995-02-24",
         "343085181.88",
         2436
        ],
        [
         "1995-04-12",
         "38813153.48",
         492
        ],
        [
         "1995-01-13",
         "507373240.87",
         3333
        ],
        [
         "1995-01-21",
         "464231133.33",
         3069
        ],
        [
         "1995-05-16",
         "8883415.51",
         174
        ],
        [
         "1995-01-14",
         "482359241.83",
         3174
        ],
        [
         "1995-04-20",
         "33915011.53",
         453
        ],
        [
         "1995-04-24",
         "23504427.62",
         336
        ],
        [
         "1995-01-03",
         "470785229.18",
         3136
        ],
        [
         "1995-03-10",
         "178718479.80",
         1463
        ],
        [
         "1995-04-30",
         "17937032.78",
         291
        ],
        [
         "1995-03-19",
         "128255992.61",
         1199
        ],
        [
         "1995-05-27",
         "3176757.92",
         78
        ]
       ],
       "datasetInfos": [],
       "dbfsResultPath": null,
       "isJsonSchema": true,
       "metadata": {},
       "overflow": false,
       "plotOptions": {
        "customPlotOptions": {},
        "displayType": "table",
        "pivotAggregation": null,
        "pivotColumns": null,
        "xColumns": null,
        "yColumns": null
       },
       "removedWidgets": [],
       "schema": [
        {
         "metadata": "{}",
         "name": "OrderDate",
         "type": "\"date\""
        },
        {
         "metadata": "{}",
         "name": "SumTotalSales",
         "type": "\"decimal(28,2)\""
        },
        {
         "metadata": "{}",
         "name": "TotalOrderCount",
         "type": "\"long\""
        }
       ],
       "type": "table"
      }
     },
     "output_type": "display_data"
    },
    {
     "output_type": "display_data",
     "data": {
      "text/plain": [
       "Databricks visualization. Run in Databricks to view."
      ]
     },
     "metadata": {
      "application/vnd.databricks.v1.subcommand+json": {
       "bindings": {},
       "collapsed": false,
       "command": "%python\n__backend_agg_display_orig = display\n__backend_agg_dfs = []\ndef __backend_agg_display_new(df):\n    __backend_agg_df_modules = [\"pandas.core.frame\", \"databricks.koalas.frame\", \"pyspark.sql.dataframe\", \"pyspark.pandas.frame\", \"pyspark.sql.connect.dataframe\"]\n    if (type(df).__module__ in __backend_agg_df_modules and type(df).__name__ == 'DataFrame') or isinstance(df, list):\n        __backend_agg_dfs.append(df)\n\ndisplay = __backend_agg_display_new\n\ndef __backend_agg_user_code_fn():\n    import base64\n    exec(base64.standard_b64decode(\"ZnJvbSBweXNwYXJrLnNxbC5mdW5jdGlvbnMgaW1wb3J0IHRvX3RpbWVzdGFtcCwgZGF0ZV9mb3JtYXQsIHllYXIKCmRpc3BsYXkocmVzLmZpbHRlcigocmVzLlN0YXR1cyA9PSAiRmFpbGVkIikgJiAoeWVhcihyZXMuT3JkZXJEYXRlKSA9PSAxOTk1KSkuZ3JvdXBieSgKICAgICJPcmRlckRhdGUiCikuYWdnKAogICAgc3VtKCJUb3RhbEFtdCIpLmFsaWFzKCJTdW1Ub3RhbFNhbGVzIiksIGNvdW50KCJPcmRlcktleSIpLmFsaWFzKCJUb3RhbE9yZGVyQ291bnQiKQopKQ==\").decode())\n\ntry:\n    # run user code\n    __backend_agg_user_code_fn()\n\n    #reset display function\n    display = __backend_agg_display_orig\n\n    if len(__backend_agg_dfs) > 0:\n        # create a temp view\n        if hasattr(__backend_agg_dfs[0], \"to_spark\"):\n            # koalas dataframe\n            __backend_agg_dfs[0].to_spark().createOrReplaceTempView(\"DatabricksView5ecf8e0\")\n        elif type(__backend_agg_dfs[0]).__module__ == \"pandas.core.frame\" or isinstance(__backend_agg_dfs[0], list):\n            # pandas dataframe\n            spark.createDataFrame(__backend_agg_dfs[0]).createOrReplaceTempView(\"DatabricksView5ecf8e0\")\n        else:\n            __backend_agg_dfs[0].createOrReplaceTempView(\"DatabricksView5ecf8e0\")\n        #run backend agg\n        display(spark.sql(\"\"\"WITH q AS (select * from DatabricksView5ecf8e0) SELECT SUM(`SumTotalSales`) `column_f1b4792d6`,SUM(`TotalOrderCount`) `column_f1b4792d7`,`OrderDate` FROM q GROUP BY `OrderDate`\"\"\"))\n    else:\n        displayHTML(\"dataframe no longer exists. If you're using dataframe.display(), use display(dataframe) instead.\")\n\n\nfinally:\n    spark.sql(\"drop view if exists DatabricksView5ecf8e0\")\n    display = __backend_agg_display_orig\n    del __backend_agg_display_new\n    del __backend_agg_display_orig\n    del __backend_agg_dfs\n    del __backend_agg_user_code_fn\n\n",
       "commandTitle": "Order Date by Total Sales and Order Count",
       "commandType": "auto",
       "commandVersion": 0,
       "commentThread": [],
       "commentsVisible": false,
       "contentSha256Hex": null,
       "customPlotOptions": {
        "redashChart": [
         {
          "key": "type",
          "value": "CHART"
         },
         {
          "key": "options",
          "value": {
           "alignYAxesAtZero": true,
           "coefficient": 1,
           "columnConfigurationMap": {
            "x": {
             "column": "OrderDate",
             "id": "column_f1b4792d8"
            },
            "y": [
             {
              "column": "SumTotalSales",
              "id": "column_f1b4792d6",
              "transform": "SUM"
             },
             {
              "column": "TotalOrderCount",
              "id": "column_f1b4792d7",
              "transform": "SUM"
             }
            ]
           },
           "dateTimeFormat": "DD/MM/YYYY HH:mm",
           "direction": {
            "type": "counterclockwise"
           },
           "error_y": {
            "type": "data",
            "visible": true
           },
           "globalSeriesType": "line",
           "legend": {
            "traceorder": "normal"
           },
           "missingValuesAsZero": true,
           "numberFormat": "0,0[.]00000",
           "percentFormat": "0[.]00%",
           "series": {
            "error_y": {
             "type": "data",
             "visible": true
            },
            "stacking": null
           },
           "seriesOptions": {
            "column_f1b4792d6": {
             "name": "SumTotalSales",
             "yAxis": 0
            },
            "column_f1b4792d7": {
             "name": "TotalOrderCount",
             "yAxis": 0
            }
           },
           "showDataLabels": false,
           "sizemode": "diameter",
           "sortX": true,
           "sortY": true,
           "swappedAxes": false,
           "textFormat": "",
           "useAggregationsUi": true,
           "valuesOptions": {},
           "version": 2,
           "xAxis": {
            "labels": {
             "enabled": true
            },
            "type": "-"
           },
           "yAxis": [
            {
             "type": "-"
            },
            {
             "opposite": true,
             "type": "-"
            }
           ]
          }
         }
        ]
       },
       "datasetPreviewNameToCmdIdMap": {},
       "diffDeletes": [],
       "diffInserts": [],
       "displayType": "redashChart",
       "error": null,
       "errorSummary": null,
       "errorTraceType": null,
       "finishTime": 0,
       "globalVars": {},
       "guid": "c0ccf61d-5688-4eb7-b99c-8437b12b28b4",
       "height": "auto",
       "hideCommandCode": false,
       "hideCommandResult": false,
       "iPythonMetadata": null,
       "inputWidgets": {},
       "isLockedInExamMode": false,
       "latestUser": "a user",
       "latestUserId": null,
       "listResultMetadata": null,
       "metadata": {
        "byteLimit": 2048000,
        "rowLimit": 10000
       },
       "nuid": "3caa427a-3b00-46b5-a6f7-cc3d09b8cf31",
       "origId": 4476185660315026,
       "parentHierarchy": [
        "81ab9ddc-c376-470a-97ed-1736f9e91b3b"
       ],
       "pivotAggregation": null,
       "pivotColumns": null,
       "position": 9.0,
       "resultDbfsErrorMessage": null,
       "resultDbfsStatus": "INLINED_IN_TREE",
       "results": null,
       "showCommandTitle": false,
       "startTime": 0,
       "state": "finished",
       "streamStates": {},
       "subcommandOptions": {
        "queryPlan": {
         "groups": [
          {
           "column": "OrderDate",
           "type": "column"
          }
         ],
         "selects": [
          {
           "alias": "column_f1b4792d6",
           "args": [
            {
             "column": "SumTotalSales",
             "type": "column"
            }
           ],
           "function": "SUM",
           "type": "function"
          },
          {
           "alias": "column_f1b4792d7",
           "args": [
            {
             "column": "TotalOrderCount",
             "type": "column"
            }
           ],
           "function": "SUM",
           "type": "function"
          },
          {
           "column": "OrderDate",
           "type": "column"
          }
         ]
        }
       },
       "submitTime": 0,
       "subtype": "tableResultSubCmd.visualization",
       "tableResultIndex": 0,
       "useConsistentColors": false,
       "version": "CommandV1",
       "width": "auto",
       "workflows": [],
       "xColumns": null,
       "yColumns": null
      }
     },
     "output_type": "display_data"
    }
   ],
   "source": [
    "from pyspark.sql.functions import to_timestamp, date_format, year\n",
    "\n",
    "display(res.filter((res.Status == \"Failed\") & (year(res.OrderDate) == 1995)).groupby(\n",
    "    \"OrderDate\"\n",
    ").agg(\n",
    "    sum(\"TotalAmt\").alias(\"SumTotalSales\"), count(\"OrderKey\").alias(\"TotalOrderCount\")\n",
    "))"
   ]
  },
  {
   "cell_type": "code",
   "execution_count": 0,
   "metadata": {
    "application/vnd.databricks.v1+cell": {
     "cellMetadata": {
      "byteLimit": 2048000,
      "rowLimit": 10000
     },
     "inputWidgets": {},
     "nuid": "3c069a7e-276e-4a68-ae75-9b8aeae5dccc",
     "showTitle": false,
     "title": ""
    }
   },
   "outputs": [
    {
     "output_type": "stream",
     "name": "stdout",
     "output_type": "stream",
     "text": [
      "root\n |-- OrderKey: long (nullable = true)\n |-- CustomerName: string (nullable = true)\n |-- NationName: string (nullable = true)\n |-- OrderDate: date (nullable = true)\n |-- Status: string (nullable = false)\n |-- TotalAmt: decimal(18,2) (nullable = true)\n\n"
     ]
    }
   ],
   "source": [
    "res.printSchema()"
   ]
  },
  {
   "cell_type": "code",
   "execution_count": 0,
   "metadata": {
    "application/vnd.databricks.v1+cell": {
     "cellMetadata": {
      "byteLimit": 2048000,
      "rowLimit": 10000
     },
     "inputWidgets": {},
     "nuid": "b5cd8cc3-1c30-4109-a7b5-367179b5b6e0",
     "showTitle": false,
     "title": ""
    }
   },
   "outputs": [],
   "source": [
    "from pyspark.sql.functions import to_timestamp,date_format,year,month\n",
    "res = res.withColumn('Year',year(res.OrderDate))\n",
    "res = res.withColumn('Month',month(res.OrderDate))"
   ]
  },
  {
   "cell_type": "code",
   "execution_count": 0,
   "metadata": {
    "application/vnd.databricks.v1+cell": {
     "cellMetadata": {
      "byteLimit": 2048000,
      "rowLimit": 10000
     },
     "inputWidgets": {},
     "nuid": "bd4fcbb8-0f3d-47ed-9fd2-d491187911cc",
     "showTitle": false,
     "title": ""
    }
   },
   "outputs": [
    {
     "output_type": "stream",
     "name": "stdout",
     "output_type": "stream",
     "text": [
      "+--------+------------------+----------+----------+-------+---------+----+-----+\n|OrderKey|      CustomerName|NationName| OrderDate| Status| TotalAmt|Year|Month|\n+--------+------------------+----------+----------+-------+---------+----+-----+\n|13949350|Customer#000000007|     CHINA|1997-12-05|Ordered|217862.05|1997|   12|\n| 7325473|Customer#000000007|     CHINA|1992-05-30| Failed|111957.12|1992|    5|\n|25815556|Customer#000000007|     CHINA|1992-10-03| Failed|212906.99|1992|   10|\n|13668358|Customer#000000007|     CHINA|1997-08-23|Ordered|173327.17|1997|    8|\n|29797575|Customer#000000007|     CHINA|1994-02-06| Failed| 71906.44|1994|    2|\n|18708064|Customer#000000007|     CHINA|1995-08-22|Ordered|129100.04|1995|    8|\n|19696194|Customer#000000007|     CHINA|1996-10-09|Ordered| 37581.90|1996|   10|\n| 1763205|Customer#000000007|     CHINA|1994-08-28| Failed| 11814.29|1994|    8|\n|26458976|Customer#000000007|     CHINA|1997-07-06|Ordered|165670.04|1997|    7|\n|15337408|Customer#000000007|     CHINA|1997-10-21|Ordered| 95938.95|1997|   10|\n|10651943|Customer#000000007|     CHINA|1997-11-04|Ordered|147174.63|1997|   11|\n|24907300|Customer#000000007|     CHINA|1996-09-30|Ordered| 65704.99|1996|    9|\n|20297955|Customer#000000007|     CHINA|1992-01-06| Failed|282708.04|1992|    1|\n|  430243|Customer#000000007|     CHINA|1994-12-24| Failed| 37537.10|1994|   12|\n|25945991|Customer#000000007|     CHINA|1995-04-20| Failed| 73212.91|1995|    4|\n|22278241|Customer#000000007|     CHINA|1993-08-06| Failed|154214.04|1993|    8|\n|11866627|Customer#000000007|     CHINA|1998-03-30|Ordered|358500.81|1998|    3|\n|12018951|Customer#000000007|     CHINA|1995-12-27|Ordered|168003.31|1995|   12|\n| 1374019|Customer#000000007|     CHINA|1992-04-05| Failed|149624.10|1992|    4|\n|23901506|Customer#000000007|     CHINA|1992-04-19| Failed|308079.30|1992|    4|\n+--------+------------------+----------+----------+-------+---------+----+-----+\nonly showing top 20 rows\n\n"
     ]
    }
   ],
   "source": [
    "res.show()"
   ]
  },
  {
   "cell_type": "code",
   "execution_count": 0,
   "metadata": {
    "application/vnd.databricks.v1+cell": {
     "cellMetadata": {
      "byteLimit": 2048000,
      "rowLimit": 10000
     },
     "inputWidgets": {},
     "nuid": "e4246289-d67d-4282-aad1-4574a29225dc",
     "showTitle": false,
     "title": ""
    }
   },
   "outputs": [
    {
     "output_type": "display_data",
     "data": {
      "text/html": [
       "<style scoped>\n",
       "  .table-result-container {\n",
       "    max-height: 300px;\n",
       "    overflow: auto;\n",
       "  }\n",
       "  table, th, td {\n",
       "    border: 1px solid black;\n",
       "    border-collapse: collapse;\n",
       "  }\n",
       "  th, td {\n",
       "    padding: 5px;\n",
       "  }\n",
       "  th {\n",
       "    text-align: left;\n",
       "  }\n",
       "</style><div class='table-result-container'><table class='table-result'><thead style='background-color: white'><tr><th>Year</th><th>TotalTxnCount</th></tr></thead><tbody><tr><td>1997</td><td>1137325</td></tr><tr><td>1994</td><td>1137944</td></tr><tr><td>1996</td><td>1141556</td></tr><tr><td>1998</td><td>668101</td></tr><tr><td>1995</td><td>1136308</td></tr><tr><td>1992</td><td>1139873</td></tr><tr><td>1993</td><td>1138893</td></tr></tbody></table></div>"
      ]
     },
     "metadata": {
      "application/vnd.databricks.v1+output": {
       "addedWidgets": {},
       "aggData": [],
       "aggError": "",
       "aggOverflow": false,
       "aggSchema": [],
       "aggSeriesLimitReached": false,
       "aggType": "",
       "arguments": {},
       "columnCustomDisplayInfos": {},
       "data": [
        [
         1997,
         1137325
        ],
        [
         1994,
         1137944
        ],
        [
         1996,
         1141556
        ],
        [
         1998,
         668101
        ],
        [
         1995,
         1136308
        ],
        [
         1992,
         1139873
        ],
        [
         1993,
         1138893
        ]
       ],
       "datasetInfos": [],
       "dbfsResultPath": null,
       "isJsonSchema": true,
       "metadata": {},
       "overflow": false,
       "plotOptions": {
        "customPlotOptions": {},
        "displayType": "table",
        "pivotAggregation": null,
        "pivotColumns": null,
        "xColumns": null,
        "yColumns": null
       },
       "removedWidgets": [],
       "schema": [
        {
         "metadata": "{}",
         "name": "Year",
         "type": "\"integer\""
        },
        {
         "metadata": "{}",
         "name": "TotalTxnCount",
         "type": "\"long\""
        }
       ],
       "type": "table"
      }
     },
     "output_type": "display_data"
    },
    {
     "output_type": "display_data",
     "data": {
      "text/plain": [
       "Databricks visualization. Run in Databricks to view."
      ]
     },
     "metadata": {
      "application/vnd.databricks.v1.subcommand+json": {
       "bindings": {},
       "collapsed": false,
       "command": "%python\n__backend_agg_display_orig = display\n__backend_agg_dfs = []\ndef __backend_agg_display_new(df):\n    __backend_agg_df_modules = [\"pandas.core.frame\", \"databricks.koalas.frame\", \"pyspark.sql.dataframe\", \"pyspark.pandas.frame\", \"pyspark.sql.connect.dataframe\"]\n    if (type(df).__module__ in __backend_agg_df_modules and type(df).__name__ == 'DataFrame') or isinstance(df, list):\n        __backend_agg_dfs.append(df)\n\ndisplay = __backend_agg_display_new\n\ndef __backend_agg_user_code_fn():\n    import base64\n    exec(base64.standard_b64decode(\"ZGlzcGxheShyZXMuZ3JvdXBCeSgnWWVhcicpLmFnZyhjb3VudCgnVG90YWxBbXQnKS5hbGlhcygiVG90YWxUeG5Db3VudCIpKSk=\").decode())\n\ntry:\n    # run user code\n    __backend_agg_user_code_fn()\n\n    #reset display function\n    display = __backend_agg_display_orig\n\n    if len(__backend_agg_dfs) > 0:\n        # create a temp view\n        if hasattr(__backend_agg_dfs[0], \"to_spark\"):\n            # koalas dataframe\n            __backend_agg_dfs[0].to_spark().createOrReplaceTempView(\"DatabricksView2fc652a\")\n        elif type(__backend_agg_dfs[0]).__module__ == \"pandas.core.frame\" or isinstance(__backend_agg_dfs[0], list):\n            # pandas dataframe\n            spark.createDataFrame(__backend_agg_dfs[0]).createOrReplaceTempView(\"DatabricksView2fc652a\")\n        else:\n            __backend_agg_dfs[0].createOrReplaceTempView(\"DatabricksView2fc652a\")\n        #run backend agg\n        display(spark.sql(\"\"\"WITH q AS (select * from DatabricksView2fc652a) SELECT `Year`,SUM(`TotalTxnCount`) `column_f1b4792d22` FROM q GROUP BY `Year`\"\"\"))\n    else:\n        displayHTML(\"dataframe no longer exists. If you're using dataframe.display(), use display(dataframe) instead.\")\n\n\nfinally:\n    spark.sql(\"drop view if exists DatabricksView2fc652a\")\n    display = __backend_agg_display_orig\n    del __backend_agg_display_new\n    del __backend_agg_display_orig\n    del __backend_agg_dfs\n    del __backend_agg_user_code_fn\n\n",
       "commandTitle": "Total Txn  By Year",
       "commandType": "auto",
       "commandVersion": 0,
       "commentThread": [],
       "commentsVisible": false,
       "contentSha256Hex": null,
       "customPlotOptions": {
        "redashChart": [
         {
          "key": "type",
          "value": "CHART"
         },
         {
          "key": "options",
          "value": {
           "alignYAxesAtZero": true,
           "coefficient": 1,
           "columnConfigurationMap": {
            "x": {
             "column": "Year",
             "id": "column_f1b4792d21"
            },
            "y": [
             {
              "column": "TotalTxnCount",
              "id": "column_f1b4792d22",
              "transform": "SUM"
             }
            ]
           },
           "dateTimeFormat": "DD/MM/YYYY HH:mm",
           "direction": {
            "type": "counterclockwise"
           },
           "error_y": {
            "type": "data",
            "visible": true
           },
           "globalSeriesType": "column",
           "isAggregationOn": true,
           "legend": {
            "traceorder": "normal"
           },
           "missingValuesAsZero": false,
           "numberFormat": "0,0[.]00000",
           "percentFormat": "0[.]00%",
           "series": {
            "error_y": {
             "type": "data",
             "visible": true
            },
            "stacking": "stack"
           },
           "seriesOptions": {
            "column_f1b4792d22": {
             "name": "TotalTxnCount",
             "type": "column",
             "yAxis": 0
            }
           },
           "showDataLabels": false,
           "sizemode": "diameter",
           "sortX": true,
           "sortY": true,
           "swappedAxes": false,
           "textFormat": "",
           "useAggregationsUi": true,
           "valuesOptions": {},
           "version": 2,
           "xAxis": {
            "labels": {
             "enabled": true
            },
            "type": "-"
           },
           "yAxis": [
            {
             "type": "-"
            },
            {
             "opposite": true,
             "type": "-"
            }
           ]
          }
         }
        ]
       },
       "datasetPreviewNameToCmdIdMap": {},
       "diffDeletes": [],
       "diffInserts": [],
       "displayType": "redashChart",
       "error": null,
       "errorSummary": null,
       "errorTraceType": null,
       "finishTime": 0,
       "globalVars": {},
       "guid": "8c2b59d7-54ba-4276-bc71-026841e056e5",
       "height": "auto",
       "hideCommandCode": false,
       "hideCommandResult": false,
       "iPythonMetadata": null,
       "inputWidgets": {},
       "isLockedInExamMode": false,
       "latestUser": "a user",
       "latestUserId": null,
       "listResultMetadata": null,
       "metadata": {
        "byteLimit": 2048000,
        "rowLimit": 10000
       },
       "nuid": "802fc8e7-877d-41bd-a885-e374ca40c9e4",
       "origId": 4476185660315031,
       "parentHierarchy": [
        "fb6233a2-f417-418b-b847-2dc0c74f656d"
       ],
       "pivotAggregation": null,
       "pivotColumns": null,
       "position": 14.0,
       "resultDbfsErrorMessage": null,
       "resultDbfsStatus": "INLINED_IN_TREE",
       "results": null,
       "showCommandTitle": false,
       "startTime": 0,
       "state": "finished",
       "streamStates": {},
       "subcommandOptions": {
        "queryPlan": {
         "groups": [
          {
           "column": "Year",
           "type": "column"
          }
         ],
         "selects": [
          {
           "column": "Year",
           "type": "column"
          },
          {
           "alias": "column_f1b4792d22",
           "args": [
            {
             "column": "TotalTxnCount",
             "type": "column"
            }
           ],
           "function": "SUM",
           "type": "function"
          }
         ]
        }
       },
       "submitTime": 0,
       "subtype": "tableResultSubCmd.visualization",
       "tableResultIndex": 0,
       "useConsistentColors": false,
       "version": "CommandV1",
       "width": "auto",
       "workflows": [],
       "xColumns": null,
       "yColumns": null
      }
     },
     "output_type": "display_data"
    }
   ],
   "source": [
    "display(res.groupBy('Year').agg(count('TotalAmt').alias(\"TotalTxnCount\")))"
   ]
  },
  {
   "cell_type": "code",
   "execution_count": 0,
   "metadata": {
    "application/vnd.databricks.v1+cell": {
     "cellMetadata": {
      "byteLimit": 2048000,
      "rowLimit": 10000
     },
     "inputWidgets": {},
     "nuid": "11512822-5db7-47e9-8de2-da1177b1defc",
     "showTitle": false,
     "title": ""
    }
   },
   "outputs": [
    {
     "output_type": "display_data",
     "data": {
      "text/html": [
       "<style scoped>\n",
       "  .table-result-container {\n",
       "    max-height: 300px;\n",
       "    overflow: auto;\n",
       "  }\n",
       "  table, th, td {\n",
       "    border: 1px solid black;\n",
       "    border-collapse: collapse;\n",
       "  }\n",
       "  th, td {\n",
       "    padding: 5px;\n",
       "  }\n",
       "  th {\n",
       "    text-align: left;\n",
       "  }\n",
       "</style><div class='table-result-container'><table class='table-result'><thead style='background-color: white'><tr><th>Month</th><th>TotalTxCount</th></tr></thead><tbody><tr><td>12</td><td>96407</td></tr><tr><td>1</td><td>97141</td></tr><tr><td>6</td><td>93670</td></tr><tr><td>3</td><td>96571</td></tr><tr><td>5</td><td>96244</td></tr><tr><td>9</td><td>93445</td></tr><tr><td>4</td><td>93484</td></tr><tr><td>8</td><td>96280</td></tr><tr><td>7</td><td>96731</td></tr><tr><td>10</td><td>96293</td></tr><tr><td>11</td><td>93033</td></tr><tr><td>2</td><td>87009</td></tr></tbody></table></div>"
      ]
     },
     "metadata": {
      "application/vnd.databricks.v1+output": {
       "addedWidgets": {},
       "aggData": [],
       "aggError": "",
       "aggOverflow": false,
       "aggSchema": [],
       "aggSeriesLimitReached": false,
       "aggType": "",
       "arguments": {},
       "columnCustomDisplayInfos": {},
       "data": [
        [
         12,
         96407
        ],
        [
         1,
         97141
        ],
        [
         6,
         93670
        ],
        [
         3,
         96571
        ],
        [
         5,
         96244
        ],
        [
         9,
         93445
        ],
        [
         4,
         93484
        ],
        [
         8,
         96280
        ],
        [
         7,
         96731
        ],
        [
         10,
         96293
        ],
        [
         11,
         93033
        ],
        [
         2,
         87009
        ]
       ],
       "datasetInfos": [],
       "dbfsResultPath": null,
       "isJsonSchema": true,
       "metadata": {},
       "overflow": false,
       "plotOptions": {
        "customPlotOptions": {},
        "displayType": "table",
        "pivotAggregation": null,
        "pivotColumns": null,
        "xColumns": null,
        "yColumns": null
       },
       "removedWidgets": [],
       "schema": [
        {
         "metadata": "{}",
         "name": "Month",
         "type": "\"integer\""
        },
        {
         "metadata": "{}",
         "name": "TotalTxCount",
         "type": "\"long\""
        }
       ],
       "type": "table"
      }
     },
     "output_type": "display_data"
    },
    {
     "output_type": "display_data",
     "data": {
      "text/plain": [
       "Databricks visualization. Run in Databricks to view."
      ]
     },
     "metadata": {
      "application/vnd.databricks.v1.subcommand+json": {
       "bindings": {},
       "collapsed": false,
       "command": "%python\n__backend_agg_display_orig = display\n__backend_agg_dfs = []\ndef __backend_agg_display_new(df):\n    __backend_agg_df_modules = [\"pandas.core.frame\", \"databricks.koalas.frame\", \"pyspark.sql.dataframe\", \"pyspark.pandas.frame\", \"pyspark.sql.connect.dataframe\"]\n    if (type(df).__module__ in __backend_agg_df_modules and type(df).__name__ == 'DataFrame') or isinstance(df, list):\n        __backend_agg_dfs.append(df)\n\ndisplay = __backend_agg_display_new\n\ndef __backend_agg_user_code_fn():\n    import base64\n    exec(base64.standard_b64decode(\"ZGlzcGxheShyZXMuZmlsdGVyKHJlcy5ZZWFyID09ICcxOTk1JykuZ3JvdXBieSgnTW9udGgnKS5hZ2coY291bnQoJ09yZGVya2V5JykuYWxpYXMoJ1RvdGFsVHhDb3VudCcpKSk=\").decode())\n\ntry:\n    # run user code\n    __backend_agg_user_code_fn()\n\n    #reset display function\n    display = __backend_agg_display_orig\n\n    if len(__backend_agg_dfs) > 0:\n        # create a temp view\n        if hasattr(__backend_agg_dfs[0], \"to_spark\"):\n            # koalas dataframe\n            __backend_agg_dfs[0].to_spark().createOrReplaceTempView(\"DatabricksView423b33a\")\n        elif type(__backend_agg_dfs[0]).__module__ == \"pandas.core.frame\" or isinstance(__backend_agg_dfs[0], list):\n            # pandas dataframe\n            spark.createDataFrame(__backend_agg_dfs[0]).createOrReplaceTempView(\"DatabricksView423b33a\")\n        else:\n            __backend_agg_dfs[0].createOrReplaceTempView(\"DatabricksView423b33a\")\n        #run backend agg\n        display(spark.sql(\"\"\"WITH q AS (select * from DatabricksView423b33a) SELECT `Month`,SUM(`TotalTxCount`) `column_f1b4792d31` FROM q GROUP BY `Month`\"\"\"))\n    else:\n        displayHTML(\"dataframe no longer exists. If you're using dataframe.display(), use display(dataframe) instead.\")\n\n\nfinally:\n    spark.sql(\"drop view if exists DatabricksView423b33a\")\n    display = __backend_agg_display_orig\n    del __backend_agg_display_new\n    del __backend_agg_display_orig\n    del __backend_agg_dfs\n    del __backend_agg_user_code_fn\n\n",
       "commandTitle": "Total Txn Count By Month",
       "commandType": "auto",
       "commandVersion": 0,
       "commentThread": [],
       "commentsVisible": false,
       "contentSha256Hex": null,
       "customPlotOptions": {
        "redashChart": [
         {
          "key": "type",
          "value": "CHART"
         },
         {
          "key": "options",
          "value": {
           "alignYAxesAtZero": true,
           "coefficient": 1,
           "columnConfigurationMap": {
            "x": {
             "column": "Month",
             "id": "column_f1b4792d26"
            },
            "y": [
             {
              "column": "TotalTxCount",
              "id": "column_f1b4792d31",
              "transform": "SUM"
             }
            ],
            "yError": {
             "column": "Month",
             "id": "column_f1b4792d29",
             "transform": "SUM"
            }
           },
           "dateTimeFormat": "DD/MM/YYYY HH:mm",
           "direction": {
            "type": "counterclockwise"
           },
           "error_y": {
            "type": "data",
            "visible": true
           },
           "globalSeriesType": "combo",
           "isAggregationOn": true,
           "legend": {
            "traceorder": "normal"
           },
           "missingValuesAsZero": true,
           "numBins": 10,
           "numberFormat": "0,0[.]00000",
           "percentFormat": "0[.]00%",
           "series": {
            "error_y": {
             "type": "data",
             "visible": true
            },
            "percentValues": false,
            "stacking": null
           },
           "seriesOptions": {
            "column_f1b4792d24": {
             "name": "TotalTxCount",
             "type": "column",
             "yAxis": 0
            },
            "column_f1b4792d31": {
             "color": "#FF7DE3",
             "name": "Total Txn Count",
             "type": "line",
             "yAxis": 0
            }
           },
           "showDataLabels": false,
           "sizemode": "diameter",
           "sortX": true,
           "sortY": true,
           "swappedAxes": true,
           "textFormat": "",
           "useAggregationsUi": true,
           "valuesOptions": {},
           "version": 2,
           "xAxis": {
            "labels": {
             "enabled": true
            },
            "type": "linear"
           },
           "yAxis": [
            {
             "type": "-"
            },
            {
             "opposite": true,
             "type": "-"
            }
           ]
          }
         }
        ]
       },
       "datasetPreviewNameToCmdIdMap": {},
       "diffDeletes": [],
       "diffInserts": [],
       "displayType": "redashChart",
       "error": null,
       "errorSummary": null,
       "errorTraceType": null,
       "finishTime": 0,
       "globalVars": {},
       "guid": "c8ffb694-5e78-475f-89c8-1cc33c9572c9",
       "height": "auto",
       "hideCommandCode": false,
       "hideCommandResult": false,
       "iPythonMetadata": null,
       "inputWidgets": {},
       "isLockedInExamMode": false,
       "latestUser": "a user",
       "latestUserId": null,
       "listResultMetadata": null,
       "metadata": {
        "byteLimit": 2048000,
        "rowLimit": 10000
       },
       "nuid": "662578fc-a5cf-474e-8867-61c80775afa3",
       "origId": 4476185660315033,
       "parentHierarchy": [
        "dc7afc30-7021-4721-8354-4ca8d6de9c27"
       ],
       "pivotAggregation": null,
       "pivotColumns": null,
       "position": 15.0,
       "resultDbfsErrorMessage": null,
       "resultDbfsStatus": "INLINED_IN_TREE",
       "results": null,
       "showCommandTitle": false,
       "startTime": 0,
       "state": "finished",
       "streamStates": {},
       "subcommandOptions": {
        "queryPlan": {
         "groups": [
          {
           "column": "Month",
           "type": "column"
          }
         ],
         "selects": [
          {
           "column": "Month",
           "type": "column"
          },
          {
           "alias": "column_f1b4792d31",
           "args": [
            {
             "column": "TotalTxCount",
             "type": "column"
            }
           ],
           "function": "SUM",
           "type": "function"
          }
         ]
        }
       },
       "submitTime": 0,
       "subtype": "tableResultSubCmd.visualization",
       "tableResultIndex": 0,
       "useConsistentColors": false,
       "version": "CommandV1",
       "width": "auto",
       "workflows": [],
       "xColumns": null,
       "yColumns": null
      }
     },
     "output_type": "display_data"
    }
   ],
   "source": [
    "display(res.filter(res.Year == '1995').groupby('Month').agg(count('Orderkey').alias('TotalTxCount')))"
   ]
  },
  {
   "cell_type": "code",
   "execution_count": 0,
   "metadata": {
    "application/vnd.databricks.v1+cell": {
     "cellMetadata": {
      "byteLimit": 2048000,
      "rowLimit": 10000
     },
     "inputWidgets": {},
     "nuid": "00574e38-6870-4715-898e-0bfaeb57c8b1",
     "showTitle": false,
     "title": ""
    }
   },
   "outputs": [
    {
     "output_type": "display_data",
     "data": {
      "text/html": [
       "<style scoped>\n",
       "  .table-result-container {\n",
       "    max-height: 300px;\n",
       "    overflow: auto;\n",
       "  }\n",
       "  table, th, td {\n",
       "    border: 1px solid black;\n",
       "    border-collapse: collapse;\n",
       "  }\n",
       "  th, td {\n",
       "    padding: 5px;\n",
       "  }\n",
       "  th {\n",
       "    text-align: left;\n",
       "  }\n",
       "</style><div class='table-result-container'><table class='table-result'><thead style='background-color: white'><tr><th>Year</th><th>Month</th><th>TotalTxCount</th></tr></thead><tbody><tr><td>1997</td><td>11</td><td>93049</td></tr><tr><td>1998</td><td>2</td><td>87411</td></tr><tr><td>1995</td><td>12</td><td>96407</td></tr><tr><td>1998</td><td>7</td><td>96736</td></tr><tr><td>1994</td><td>3</td><td>96593</td></tr><tr><td>1996</td><td>11</td><td>93500</td></tr><tr><td>1998</td><td>1</td><td>97175</td></tr><tr><td>1992</td><td>12</td><td>96819</td></tr><tr><td>1994</td><td>12</td><td>96729</td></tr><tr><td>1994</td><td>8</td><td>96741</td></tr><tr><td>1992</td><td>7</td><td>96846</td></tr><tr><td>1996</td><td>10</td><td>96616</td></tr><tr><td>1997</td><td>9</td><td>93330</td></tr><tr><td>1994</td><td>9</td><td>93643</td></tr><tr><td>1993</td><td>7</td><td>96968</td></tr><tr><td>1997</td><td>10</td><td>96520</td></tr><tr><td>1997</td><td>3</td><td>96440</td></tr><tr><td>1995</td><td>11</td><td>93033</td></tr><tr><td>1996</td><td>2</td><td>90454</td></tr><tr><td>1996</td><td>9</td><td>93570</td></tr><tr><td>1994</td><td>10</td><td>96156</td></tr><tr><td>1993</td><td>3</td><td>96784</td></tr><tr><td>1993</td><td>4</td><td>93450</td></tr><tr><td>1994</td><td>7</td><td>96272</td></tr><tr><td>1998</td><td>3</td><td>97031</td></tr><tr><td>1995</td><td>8</td><td>96280</td></tr><tr><td>1994</td><td>2</td><td>87265</td></tr><tr><td>1992</td><td>3</td><td>95930</td></tr><tr><td>1993</td><td>1</td><td>96957</td></tr><tr><td>1996</td><td>6</td><td>93647</td></tr><tr><td>1995</td><td>7</td><td>96731</td></tr><tr><td>1993</td><td>8</td><td>96822</td></tr><tr><td>1996</td><td>7</td><td>97126</td></tr><tr><td>1997</td><td>2</td><td>87253</td></tr><tr><td>1995</td><td>1</td><td>97141</td></tr><tr><td>1997</td><td>12</td><td>96732</td></tr><tr><td>1994</td><td>11</td><td>93724</td></tr><tr><td>1992</td><td>1</td><td>96647</td></tr><tr><td>1993</td><td>2</td><td>87768</td></tr><tr><td>1993</td><td>6</td><td>93566</td></tr><tr><td>1993</td><td>11</td><td>93611</td></tr><tr><td>1993</td><td>10</td><td>96163</td></tr><tr><td>1994</td><td>6</td><td>93789</td></tr><tr><td>1997</td><td>5</td><td>96654</td></tr><tr><td>1992</td><td>4</td><td>93774</td></tr><tr><td>1998</td><td>4</td><td>93779</td></tr><tr><td>1997</td><td>7</td><td>96495</td></tr><tr><td>1993</td><td>5</td><td>96822</td></tr><tr><td>1992</td><td>10</td><td>96526</td></tr><tr><td>1993</td><td>9</td><td>93460</td></tr><tr><td>1997</td><td>8</td><td>96724</td></tr><tr><td>1995</td><td>6</td><td>93670</td></tr><tr><td>1994</td><td>1</td><td>96747</td></tr><tr><td>1994</td><td>5</td><td>96546</td></tr><tr><td>1992</td><td>5</td><td>96001</td></tr><tr><td>1995</td><td>10</td><td>96293</td></tr><tr><td>1995</td><td>9</td><td>93445</td></tr><tr><td>1997</td><td>1</td><td>96648</td></tr><tr><td>1995</td><td>4</td><td>93484</td></tr><tr><td>1996</td><td>4</td><td>93197</td></tr><tr><td>1995</td><td>3</td><td>96571</td></tr><tr><td>1998</td><td>6</td><td>93249</td></tr><tr><td>1997</td><td>6</td><td>93872</td></tr><tr><td>1996</td><td>5</td><td>96844</td></tr><tr><td>1992</td><td>2</td><td>90518</td></tr><tr><td>1992</td><td>6</td><td>93497</td></tr><tr><td>1998</td><td>5</td><td>96515</td></tr><tr><td>1993</td><td>12</td><td>96522</td></tr><tr><td>1994</td><td>4</td><td>93739</td></tr><tr><td>1996</td><td>12</td><td>96653</td></tr><tr><td>1996</td><td>8</td><td>96875</td></tr><tr><td>1997</td><td>4</td><td>93608</td></tr><tr><td>1996</td><td>3</td><td>96283</td></tr><tr><td>1992</td><td>8</td><td>96334</td></tr><tr><td>1992</td><td>11</td><td>93633</td></tr><tr><td>1998</td><td>8</td><td>6205</td></tr><tr><td>1995</td><td>2</td><td>87009</td></tr><tr><td>1996</td><td>1</td><td>96791</td></tr><tr><td>1995</td><td>5</td><td>96244</td></tr><tr><td>1992</td><td>9</td><td>93348</td></tr></tbody></table></div>"
      ]
     },
     "metadata": {
      "application/vnd.databricks.v1+output": {
       "addedWidgets": {},
       "aggData": [],
       "aggError": "",
       "aggOverflow": false,
       "aggSchema": [],
       "aggSeriesLimitReached": false,
       "aggType": "",
       "arguments": {},
       "columnCustomDisplayInfos": {},
       "data": [
        [
         1997,
         11,
         93049
        ],
        [
         1998,
         2,
         87411
        ],
        [
         1995,
         12,
         96407
        ],
        [
         1998,
         7,
         96736
        ],
        [
         1994,
         3,
         96593
        ],
        [
         1996,
         11,
         93500
        ],
        [
         1998,
         1,
         97175
        ],
        [
         1992,
         12,
         96819
        ],
        [
         1994,
         12,
         96729
        ],
        [
         1994,
         8,
         96741
        ],
        [
         1992,
         7,
         96846
        ],
        [
         1996,
         10,
         96616
        ],
        [
         1997,
         9,
         93330
        ],
        [
         1994,
         9,
         93643
        ],
        [
         1993,
         7,
         96968
        ],
        [
         1997,
         10,
         96520
        ],
        [
         1997,
         3,
         96440
        ],
        [
         1995,
         11,
         93033
        ],
        [
         1996,
         2,
         90454
        ],
        [
         1996,
         9,
         93570
        ],
        [
         1994,
         10,
         96156
        ],
        [
         1993,
         3,
         96784
        ],
        [
         1993,
         4,
         93450
        ],
        [
         1994,
         7,
         96272
        ],
        [
         1998,
         3,
         97031
        ],
        [
         1995,
         8,
         96280
        ],
        [
         1994,
         2,
         87265
        ],
        [
         1992,
         3,
         95930
        ],
        [
         1993,
         1,
         96957
        ],
        [
         1996,
         6,
         93647
        ],
        [
         1995,
         7,
         96731
        ],
        [
         1993,
         8,
         96822
        ],
        [
         1996,
         7,
         97126
        ],
        [
         1997,
         2,
         87253
        ],
        [
         1995,
         1,
         97141
        ],
        [
         1997,
         12,
         96732
        ],
        [
         1994,
         11,
         93724
        ],
        [
         1992,
         1,
         96647
        ],
        [
         1993,
         2,
         87768
        ],
        [
         1993,
         6,
         93566
        ],
        [
         1993,
         11,
         93611
        ],
        [
         1993,
         10,
         96163
        ],
        [
         1994,
         6,
         93789
        ],
        [
         1997,
         5,
         96654
        ],
        [
         1992,
         4,
         93774
        ],
        [
         1998,
         4,
         93779
        ],
        [
         1997,
         7,
         96495
        ],
        [
         1993,
         5,
         96822
        ],
        [
         1992,
         10,
         96526
        ],
        [
         1993,
         9,
         93460
        ],
        [
         1997,
         8,
         96724
        ],
        [
         1995,
         6,
         93670
        ],
        [
         1994,
         1,
         96747
        ],
        [
         1994,
         5,
         96546
        ],
        [
         1992,
         5,
         96001
        ],
        [
         1995,
         10,
         96293
        ],
        [
         1995,
         9,
         93445
        ],
        [
         1997,
         1,
         96648
        ],
        [
         1995,
         4,
         93484
        ],
        [
         1996,
         4,
         93197
        ],
        [
         1995,
         3,
         96571
        ],
        [
         1998,
         6,
         93249
        ],
        [
         1997,
         6,
         93872
        ],
        [
         1996,
         5,
         96844
        ],
        [
         1992,
         2,
         90518
        ],
        [
         1992,
         6,
         93497
        ],
        [
         1998,
         5,
         96515
        ],
        [
         1993,
         12,
         96522
        ],
        [
         1994,
         4,
         93739
        ],
        [
         1996,
         12,
         96653
        ],
        [
         1996,
         8,
         96875
        ],
        [
         1997,
         4,
         93608
        ],
        [
         1996,
         3,
         96283
        ],
        [
         1992,
         8,
         96334
        ],
        [
         1992,
         11,
         93633
        ],
        [
         1998,
         8,
         6205
        ],
        [
         1995,
         2,
         87009
        ],
        [
         1996,
         1,
         96791
        ],
        [
         1995,
         5,
         96244
        ],
        [
         1992,
         9,
         93348
        ]
       ],
       "datasetInfos": [],
       "dbfsResultPath": null,
       "isJsonSchema": true,
       "metadata": {},
       "overflow": false,
       "plotOptions": {
        "customPlotOptions": {},
        "displayType": "table",
        "pivotAggregation": null,
        "pivotColumns": null,
        "xColumns": null,
        "yColumns": null
       },
       "removedWidgets": [],
       "schema": [
        {
         "metadata": "{}",
         "name": "Year",
         "type": "\"integer\""
        },
        {
         "metadata": "{}",
         "name": "Month",
         "type": "\"integer\""
        },
        {
         "metadata": "{}",
         "name": "TotalTxCount",
         "type": "\"long\""
        }
       ],
       "type": "table"
      }
     },
     "output_type": "display_data"
    },
    {
     "output_type": "display_data",
     "data": {
      "text/plain": [
       "Databricks visualization. Run in Databricks to view."
      ]
     },
     "metadata": {
      "application/vnd.databricks.v1.subcommand+json": {
       "bindings": {},
       "collapsed": false,
       "command": "%python\n__backend_agg_display_orig = display\n__backend_agg_dfs = []\ndef __backend_agg_display_new(df):\n    __backend_agg_df_modules = [\"pandas.core.frame\", \"databricks.koalas.frame\", \"pyspark.sql.dataframe\", \"pyspark.pandas.frame\", \"pyspark.sql.connect.dataframe\"]\n    if (type(df).__module__ in __backend_agg_df_modules and type(df).__name__ == 'DataFrame') or isinstance(df, list):\n        __backend_agg_dfs.append(df)\n\ndisplay = __backend_agg_display_new\n\ndef __backend_agg_user_code_fn():\n    import base64\n    exec(base64.standard_b64decode(\"ZGlzcGxheShyZXMuZ3JvdXBieSgnWWVhcicsJ01vbnRoJykuYWdnKGNvdW50KCdPcmRlcmtleScpLmFsaWFzKCdUb3RhbFR4Q291bnQnKSkp\").decode())\n\ntry:\n    # run user code\n    __backend_agg_user_code_fn()\n\n    #reset display function\n    display = __backend_agg_display_orig\n\n    if len(__backend_agg_dfs) > 0:\n        # create a temp view\n        if hasattr(__backend_agg_dfs[0], \"to_spark\"):\n            # koalas dataframe\n            __backend_agg_dfs[0].to_spark().createOrReplaceTempView(\"DatabricksViewb3fa787\")\n        elif type(__backend_agg_dfs[0]).__module__ == \"pandas.core.frame\" or isinstance(__backend_agg_dfs[0], list):\n            # pandas dataframe\n            spark.createDataFrame(__backend_agg_dfs[0]).createOrReplaceTempView(\"DatabricksViewb3fa787\")\n        else:\n            __backend_agg_dfs[0].createOrReplaceTempView(\"DatabricksViewb3fa787\")\n        #run backend agg\n        display(spark.sql(\"\"\"WITH q AS (select * from DatabricksViewb3fa787) SELECT `Month`,SUM(`TotalTxCount`) `column_f1b4792d34` FROM q GROUP BY `Month`\"\"\"))\n    else:\n        displayHTML(\"dataframe no longer exists. If you're using dataframe.display(), use display(dataframe) instead.\")\n\n\nfinally:\n    spark.sql(\"drop view if exists DatabricksViewb3fa787\")\n    display = __backend_agg_display_orig\n    del __backend_agg_display_new\n    del __backend_agg_display_orig\n    del __backend_agg_dfs\n    del __backend_agg_user_code_fn\n\n",
       "commandTitle": "Visualization 1",
       "commandType": "auto",
       "commandVersion": 0,
       "commentThread": [],
       "commentsVisible": false,
       "contentSha256Hex": null,
       "customPlotOptions": {
        "redashChart": [
         {
          "key": "type",
          "value": "CHART"
         },
         {
          "key": "options",
          "value": {
           "alignYAxesAtZero": true,
           "coefficient": 1,
           "columnConfigurationMap": {
            "x": {
             "column": "Month",
             "id": "column_f1b4792d39"
            },
            "y": [
             {
              "column": "TotalTxCount",
              "id": "column_f1b4792d34",
              "transform": "SUM"
             }
            ]
           },
           "dateTimeFormat": "DD/MM/YYYY HH:mm",
           "direction": {
            "type": "counterclockwise"
           },
           "error_y": {
            "type": "data",
            "visible": true
           },
           "globalSeriesType": "column",
           "hideYAxes": false,
           "isAggregationOn": true,
           "legend": {
            "traceorder": "normal"
           },
           "missingValuesAsZero": true,
           "numberFormat": "0,0[.]00000",
           "percentFormat": "0[.]00%",
           "series": {
            "error_y": {
             "type": "data",
             "visible": true
            },
            "stacking": "stack"
           },
           "seriesOptions": {
            "column_f1b4792d34": {
             "type": "column",
             "yAxis": 0
            },
            "column_f1b4792d36": {
             "type": "column",
             "yAxis": 0
            },
            "column_f1b4792d38": {
             "type": "column",
             "yAxis": 0
            }
           },
           "showDataLabels": true,
           "sizemode": "diameter",
           "sortX": true,
           "sortY": true,
           "swappedAxes": true,
           "textFormat": "",
           "useAggregationsUi": true,
           "valuesOptions": {},
           "version": 2,
           "xAxis": {
            "labels": {
             "enabled": true
            },
            "type": "-"
           },
           "yAxis": [
            {
             "type": "-"
            },
            {
             "opposite": true,
             "type": "-"
            }
           ]
          }
         }
        ]
       },
       "datasetPreviewNameToCmdIdMap": {},
       "diffDeletes": [],
       "diffInserts": [],
       "displayType": "redashChart",
       "error": null,
       "errorSummary": null,
       "errorTraceType": null,
       "finishTime": 0,
       "globalVars": {},
       "guid": "e4a3e17a-8934-44c4-8a52-e473dc7cd36e",
       "height": "auto",
       "hideCommandCode": false,
       "hideCommandResult": false,
       "iPythonMetadata": null,
       "inputWidgets": {},
       "isLockedInExamMode": false,
       "latestUser": "a user",
       "latestUserId": null,
       "listResultMetadata": null,
       "metadata": {
        "byteLimit": 2048000,
        "rowLimit": 10000
       },
       "nuid": "602baac7-6eb1-499b-acc9-d12d94164b33",
       "origId": 4476185660315034,
       "parentHierarchy": [
        "72b531f3-9321-4f25-b9eb-ad921444833b"
       ],
       "pivotAggregation": null,
       "pivotColumns": null,
       "position": 16.0,
       "resultDbfsErrorMessage": null,
       "resultDbfsStatus": "INLINED_IN_TREE",
       "results": null,
       "showCommandTitle": false,
       "startTime": 0,
       "state": "finished",
       "streamStates": {},
       "subcommandOptions": {
        "queryPlan": {
         "groups": [
          {
           "column": "Month",
           "type": "column"
          }
         ],
         "selects": [
          {
           "column": "Month",
           "type": "column"
          },
          {
           "alias": "column_f1b4792d34",
           "args": [
            {
             "column": "TotalTxCount",
             "type": "column"
            }
           ],
           "function": "SUM",
           "type": "function"
          }
         ]
        }
       },
       "submitTime": 0,
       "subtype": "tableResultSubCmd.visualization",
       "tableResultIndex": 0,
       "useConsistentColors": false,
       "version": "CommandV1",
       "width": "auto",
       "workflows": [],
       "xColumns": null,
       "yColumns": null
      }
     },
     "output_type": "display_data"
    }
   ],
   "source": [
    "display(res.groupby('Year','Month').agg(count('Orderkey').alias('TotalTxCount')))"
   ]
  },
  {
   "cell_type": "code",
   "execution_count": 0,
   "metadata": {
    "application/vnd.databricks.v1+cell": {
     "cellMetadata": {
      "byteLimit": 2048000,
      "rowLimit": 10000
     },
     "inputWidgets": {},
     "nuid": "98c22f6c-918e-4ddb-bcbb-b8d7299c3217",
     "showTitle": false,
     "title": ""
    }
   },
   "outputs": [
    {
     "output_type": "display_data",
     "data": {
      "text/plain": [
       "'Order Overview'"
      ]
     },
     "metadata": {},
     "output_type": "display_data"
    }
   ],
   "source": [
    "display('Order Overview')"
   ]
  },
  {
   "cell_type": "code",
   "execution_count": 0,
   "metadata": {
    "application/vnd.databricks.v1+cell": {
     "cellMetadata": {
      "byteLimit": 2048000,
      "implicitDf": true,
      "rowLimit": 10000
     },
     "inputWidgets": {},
     "nuid": "189bc1b8-34e6-49c4-97d5-bec67ab7907c",
     "showTitle": false,
     "title": ""
    }
   },
   "outputs": [
    {
     "output_type": "display_data",
     "data": {
      "text/html": [
       "<style scoped>\n",
       "  .table-result-container {\n",
       "    max-height: 300px;\n",
       "    overflow: auto;\n",
       "  }\n",
       "  table, th, td {\n",
       "    border: 1px solid black;\n",
       "    border-collapse: collapse;\n",
       "  }\n",
       "  th, td {\n",
       "    padding: 5px;\n",
       "  }\n",
       "  th {\n",
       "    text-align: left;\n",
       "  }\n",
       "</style><div class='table-result-container'><table class='table-result'><thead style='background-color: white'><tr><th>o_orderstatus</th><th>count(DISTINCT o_custkey)</th></tr></thead><tbody><tr><td>F</td><td>498132</td></tr><tr><td>O</td><td>498182</td></tr><tr><td>P</td><td>155917</td></tr></tbody></table></div>"
      ]
     },
     "metadata": {
      "application/vnd.databricks.v1+output": {
       "addedWidgets": {},
       "aggData": [],
       "aggError": "",
       "aggOverflow": false,
       "aggSchema": [],
       "aggSeriesLimitReached": false,
       "aggType": "",
       "arguments": {},
       "columnCustomDisplayInfos": {},
       "data": [
        [
         "F",
         498132
        ],
        [
         "O",
         498182
        ],
        [
         "P",
         155917
        ]
       ],
       "datasetInfos": [
        {
         "name": "_sqldf",
         "schema": {
          "fields": [
           {
            "metadata": {},
            "name": "o_orderstatus",
            "nullable": true,
            "type": "string"
           },
           {
            "metadata": {
             "__autoGeneratedAlias": "true"
            },
            "name": "count(DISTINCT o_custkey)",
            "nullable": false,
            "type": "long"
           }
          ],
          "type": "struct"
         },
         "tableIdentifier": null,
         "typeStr": "pyspark.sql.dataframe.DataFrame"
        }
       ],
       "dbfsResultPath": null,
       "isJsonSchema": true,
       "metadata": {
        "dataframeName": "_sqldf",
        "executionCount": 127
       },
       "overflow": false,
       "plotOptions": {
        "customPlotOptions": {},
        "displayType": "table",
        "pivotAggregation": null,
        "pivotColumns": null,
        "xColumns": null,
        "yColumns": null
       },
       "removedWidgets": [],
       "schema": [
        {
         "metadata": "{}",
         "name": "o_orderstatus",
         "type": "\"string\""
        },
        {
         "metadata": "{\"__autoGeneratedAlias\":\"true\"}",
         "name": "count(DISTINCT o_custkey)",
         "type": "\"long\""
        }
       ],
       "type": "table"
      }
     },
     "output_type": "display_data"
    }
   ],
   "source": [
    "%sql\n",
    "select o_orderstatus,count(distinct o_custkey) from samples.tpch.orders\n",
    "group by o_orderstatus\n"
   ]
  },
  {
   "cell_type": "code",
   "execution_count": 0,
   "metadata": {
    "application/vnd.databricks.v1+cell": {
     "cellMetadata": {
      "byteLimit": 2048000,
      "rowLimit": 10000
     },
     "inputWidgets": {},
     "nuid": "09068877-2eb7-4fcd-a2ef-d7e251a70e83",
     "showTitle": false,
     "title": ""
    }
   },
   "outputs": [
    {
     "output_type": "stream",
     "name": "stdout",
     "output_type": "stream",
     "text": [
      "+-------------+---------+\n|o_orderstatus|custcount|\n+-------------+---------+\n|            F|   498132|\n|            O|   498182|\n|            P|   155917|\n+-------------+---------+\n\n"
     ]
    }
   ],
   "source": [
    "CountCust = spark.sql(\"select o_orderstatus,count(distinct o_custkey) as custcount from samples.tpch.orders group by o_orderstatus\")\n",
    "CountCust.show()"
   ]
  },
  {
   "cell_type": "code",
   "execution_count": 0,
   "metadata": {
    "application/vnd.databricks.v1+cell": {
     "cellMetadata": {},
     "inputWidgets": {},
     "nuid": "4d180764-da6d-465a-919e-26f488a70042",
     "showTitle": false,
     "title": ""
    }
   },
   "outputs": [],
   "source": []
  }
 ],
 "metadata": {
  "application/vnd.databricks.v1+notebook": {
   "dashboards": [
    {
     "elements": [
      {
       "dashboardResultIndex": null,
       "elementNUID": "602baac7-6eb1-499b-acc9-d12d94164b33",
       "elementType": "command",
       "guid": "67e2058c-a18a-4150-9378-aa660cdf3923",
       "options": {
        "autoScaleImg": false,
        "scale": 0,
        "showRunButton": true,
        "showTitle": true,
        "titleAlign": "center"
       },
       "position": {
        "height": 7,
        "width": 8,
        "x": 0,
        "y": 0,
        "z": null
       },
       "resultIndex": null
      },
      {
       "dashboardResultIndex": null,
       "elementNUID": "802fc8e7-877d-41bd-a885-e374ca40c9e4",
       "elementType": "command",
       "guid": "68c1aecd-02fc-4e7f-b978-76741a4f221c",
       "options": null,
       "position": {
        "height": 7,
        "width": 11,
        "x": 8,
        "y": 0,
        "z": null
       },
       "resultIndex": null
      },
      {
       "dashboardResultIndex": null,
       "elementNUID": "f2c33297-c1b8-4e92-8f20-501dee364929",
       "elementType": "command",
       "guid": "6a92e7f6-549f-43ef-abbc-d60c875d064c",
       "options": null,
       "position": {
        "height": 7,
        "width": 6,
        "x": 0,
        "y": 7,
        "z": null
       },
       "resultIndex": null
      },
      {
       "dashboardResultIndex": null,
       "elementNUID": "ae8a897e-cc25-41ec-9bc4-8d6316681701",
       "elementType": "command",
       "guid": "9628a1a2-eb13-429f-967f-edfdc211d12d",
       "options": null,
       "position": {
        "height": 7,
        "width": 13,
        "x": 6,
        "y": 7,
        "z": null
       },
       "resultIndex": null
      }
     ],
     "globalVars": {},
     "guid": "2d8b7283-65ab-4b0b-adf0-a17dfa88720e",
     "layoutOption": {
      "grid": true,
      "stack": true
     },
     "nuid": "6c503874-e983-4c82-a283-e638da51aa77",
     "origId": 4476185660315036,
     "title": "Order Overview",
     "version": "DashboardViewV1",
     "width": 1024
    }
   ],
   "language": "python",
   "notebookMetadata": {
    "mostRecentlyExecutedCommandWithImplicitDF": {
     "commandId": 4476185660315038,
     "dataframes": [
      "_sqldf"
     ]
    },
    "pythonIndentUnit": 4
   },
   "notebookName": "OrderDataSummary",
   "widgets": {}
  }
 },
 "nbformat": 4,
 "nbformat_minor": 0
}
